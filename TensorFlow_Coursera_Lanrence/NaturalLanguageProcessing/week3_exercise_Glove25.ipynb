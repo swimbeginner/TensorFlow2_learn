{
 "cells": [
  {
   "cell_type": "code",
   "execution_count": 1,
   "metadata": {
    "collapsed": true
   },
   "outputs": [],
   "source": [
    "import json\n",
    "import tensorflow as tf\n",
    "import numpy as np\n",
    "import pandas as pd\n",
    "import csv\n",
    "import random\n",
    "from tensorflow.keras.preprocessing.text import Tokenizer\n",
    "from tensorflow.keras.preprocessing.sequence import pad_sequences\n",
    "from tensorflow.keras.utils import to_categorical\n",
    "from tensorflow.keras import regularizers"
   ]
  },
  {
   "cell_type": "code",
   "execution_count": 40,
   "outputs": [],
   "source": [
    "embedding_dim = 25\n",
    "max_length = 16\n",
    "trunc_type='post'\n",
    "padding_type='post'\n",
    "oov_tok = \"<OOV>\"\n",
    "training_size=1600000 #Your dataset size here. Experiment using smaller values (i.e. 16000), but don't forget to train on at least 160000 to see the best effects\n",
    "test_portion=.1\n",
    "\n",
    "corpus = []"
   ],
   "metadata": {
    "collapsed": false,
    "pycharm": {
     "name": "#%%\n"
    }
   }
  },
  {
   "cell_type": "code",
   "execution_count": 41,
   "outputs": [],
   "source": [
    "import os\n",
    "filefolder='C:\\\\Users\\\\liu1y\\\\Downloads\\\\glove'\n",
    "filename='glove.twitter.27B.25d.txt'\n",
    "fullname=os.path.join(filefolder, filename )"
   ],
   "metadata": {
    "collapsed": false,
    "pycharm": {
     "name": "#%%\n"
    }
   }
  },
  {
   "cell_type": "code",
   "execution_count": 42,
   "outputs": [
    {
     "name": "stdout",
     "output_type": "stream",
     "text": [
      "found 1193514 word vectors.\n"
     ]
    }
   ],
   "source": [
    "embeddings_index={}\n",
    "f=open(os.path.join(filefolder, filename ), encoding='utf-8' )\n",
    "for row in f:\n",
    "    values=row.split()\n",
    "    word=values[0]\n",
    "    coefs=np.asarray(values[1:], dtype='float32')\n",
    "    embeddings_index[word]=coefs\n",
    "f.close()\n",
    "print(f'found {len(embeddings_index)} word vectors.')"
   ],
   "metadata": {
    "collapsed": false,
    "pycharm": {
     "name": "#%%\n"
    }
   }
  },
  {
   "cell_type": "code",
   "execution_count": 43,
   "outputs": [
    {
     "data": {
      "text/plain": "('ﾟﾟﾟｵﾔｽﾐｰ',\n array([-2.5807  , -1.0965  , -0.59056 ,  1.1178  , -0.30615 , -0.44198 ,\n        -1.377   , -2.3494  ,  2.0436  , -0.15692 ,  2.6962  ,  1.033   ,\n         0.81358 , -1.7224  ,  0.066939, -0.71714 ,  1.0608  , -0.43463 ,\n         2.1178  ,  0.65876 ,  0.62825 , -1.2018  ,  1.7123  ,  0.79867 ,\n         0.32424 ], dtype=float32))"
     },
     "execution_count": 43,
     "metadata": {},
     "output_type": "execute_result"
    }
   ],
   "source": [
    "embeddings_index.popitem()"
   ],
   "metadata": {
    "collapsed": false,
    "pycharm": {
     "name": "#%%\n"
    }
   }
  },
  {
   "cell_type": "code",
   "execution_count": 44,
   "outputs": [
    {
     "data": {
      "text/plain": "   0           1                             2         3                4  \\\n0  0  1467810369  Mon Apr 06 22:19:45 PDT 2009  NO_QUERY  _TheSpecialOne_   \n1  0  1467810672  Mon Apr 06 22:19:49 PDT 2009  NO_QUERY    scotthamilton   \n2  0  1467810917  Mon Apr 06 22:19:53 PDT 2009  NO_QUERY         mattycus   \n3  0  1467811184  Mon Apr 06 22:19:57 PDT 2009  NO_QUERY          ElleCTF   \n4  0  1467811193  Mon Apr 06 22:19:57 PDT 2009  NO_QUERY           Karoli   \n\n                                                   5  \n0  @switchfoot http://twitpic.com/2y1zl - Awww, t...  \n1  is upset that he can't update his Facebook by ...  \n2  @Kenichan I dived many times for the ball. Man...  \n3    my whole body feels itchy and like its on fire   \n4  @nationwideclass no, it's not behaving at all....  ",
      "text/html": "<div>\n<style scoped>\n    .dataframe tbody tr th:only-of-type {\n        vertical-align: middle;\n    }\n\n    .dataframe tbody tr th {\n        vertical-align: top;\n    }\n\n    .dataframe thead th {\n        text-align: right;\n    }\n</style>\n<table border=\"1\" class=\"dataframe\">\n  <thead>\n    <tr style=\"text-align: right;\">\n      <th></th>\n      <th>0</th>\n      <th>1</th>\n      <th>2</th>\n      <th>3</th>\n      <th>4</th>\n      <th>5</th>\n    </tr>\n  </thead>\n  <tbody>\n    <tr>\n      <th>0</th>\n      <td>0</td>\n      <td>1467810369</td>\n      <td>Mon Apr 06 22:19:45 PDT 2009</td>\n      <td>NO_QUERY</td>\n      <td>_TheSpecialOne_</td>\n      <td>@switchfoot http://twitpic.com/2y1zl - Awww, t...</td>\n    </tr>\n    <tr>\n      <th>1</th>\n      <td>0</td>\n      <td>1467810672</td>\n      <td>Mon Apr 06 22:19:49 PDT 2009</td>\n      <td>NO_QUERY</td>\n      <td>scotthamilton</td>\n      <td>is upset that he can't update his Facebook by ...</td>\n    </tr>\n    <tr>\n      <th>2</th>\n      <td>0</td>\n      <td>1467810917</td>\n      <td>Mon Apr 06 22:19:53 PDT 2009</td>\n      <td>NO_QUERY</td>\n      <td>mattycus</td>\n      <td>@Kenichan I dived many times for the ball. Man...</td>\n    </tr>\n    <tr>\n      <th>3</th>\n      <td>0</td>\n      <td>1467811184</td>\n      <td>Mon Apr 06 22:19:57 PDT 2009</td>\n      <td>NO_QUERY</td>\n      <td>ElleCTF</td>\n      <td>my whole body feels itchy and like its on fire</td>\n    </tr>\n    <tr>\n      <th>4</th>\n      <td>0</td>\n      <td>1467811193</td>\n      <td>Mon Apr 06 22:19:57 PDT 2009</td>\n      <td>NO_QUERY</td>\n      <td>Karoli</td>\n      <td>@nationwideclass no, it's not behaving at all....</td>\n    </tr>\n  </tbody>\n</table>\n</div>"
     },
     "execution_count": 44,
     "metadata": {},
     "output_type": "execute_result"
    }
   ],
   "source": [
    "num_sentences = 0\n",
    "nRowsRead=1600000\n",
    "filefolder2='C:\\\\Users\\\\liu1y\\\\Downloads\\\\training160K'\n",
    "filename2='training.1600000.processed.noemoticon.csv'\n",
    "fullname2=os.path.join(filefolder2, filename2 )\n",
    "dataset=pd.read_csv(fullname2, encoding='latin', delimiter=',', header=None)\n",
    "dataset.head()"
   ],
   "metadata": {
    "collapsed": false,
    "pycharm": {
     "name": "#%%\n"
    }
   }
  },
  {
   "cell_type": "code",
   "execution_count": 45,
   "outputs": [
    {
     "data": {
      "text/plain": "4    800000\n0    800000\nName: label, dtype: int64"
     },
     "execution_count": 45,
     "metadata": {},
     "output_type": "execute_result"
    }
   ],
   "source": [
    "dataset.columns=['label', 'id','date','Q', 'name', 'sentences']\n",
    "dataset.label.value_counts()"
   ],
   "metadata": {
    "collapsed": false,
    "pycharm": {
     "name": "#%%\n"
    }
   }
  },
  {
   "cell_type": "code",
   "execution_count": 46,
   "outputs": [
    {
     "name": "stderr",
     "output_type": "stream",
     "text": [
      "<ipython-input-46-b82d9830c4e6>:1: SettingWithCopyWarning: \n",
      "A value is trying to be set on a copy of a slice from a DataFrame\n",
      "\n",
      "See the caveats in the documentation: https://pandas.pydata.org/pandas-docs/stable/user_guide/indexing.html#returning-a-view-versus-a-copy\n",
      "  dataset.label[dataset.label>0]=1\n"
     ]
    }
   ],
   "source": [
    "dataset.label[dataset.label>0]=1"
   ],
   "metadata": {
    "collapsed": false,
    "pycharm": {
     "name": "#%%\n"
    }
   }
  },
  {
   "cell_type": "code",
   "execution_count": 47,
   "outputs": [
    {
     "data": {
      "text/plain": "1    800000\n0    800000\nName: label, dtype: int64"
     },
     "execution_count": 47,
     "metadata": {},
     "output_type": "execute_result"
    }
   ],
   "source": [
    "dataset.label.value_counts()\n"
   ],
   "metadata": {
    "collapsed": false,
    "pycharm": {
     "name": "#%%\n"
    }
   }
  },
  {
   "cell_type": "code",
   "execution_count": 48,
   "outputs": [],
   "source": [
    "sentences=[]\n",
    "labels=[]\n",
    "num_sentences=dataset.shape[0]\n",
    "num_sentences\n",
    "dataset=dataset.sample(frac=1)\n",
    "sentences=dataset.sentences.to_list()\n",
    "labels=dataset.label.to_list()"
   ],
   "metadata": {
    "collapsed": false,
    "pycharm": {
     "name": "#%%\n"
    }
   }
  },
  {
   "cell_type": "code",
   "execution_count": 49,
   "outputs": [
    {
     "data": {
      "text/plain": "'@CAKEZINNI u should feel 1000 thread count... i wish i thiefed them  we should go find some! hahaha'"
     },
     "execution_count": 49,
     "metadata": {},
     "output_type": "execute_result"
    }
   ],
   "source": [
    "sentences[1]"
   ],
   "metadata": {
    "collapsed": false,
    "pycharm": {
     "name": "#%%\n"
    }
   }
  },
  {
   "cell_type": "code",
   "execution_count": 50,
   "outputs": [],
   "source": [
    "#Tokenize the sentences\n",
    "tokenizer=Tokenizer()\n",
    "tokenizer.fit_on_texts(sentences)\n",
    "word_index=tokenizer.word_index\n",
    "vocab_size=len(word_index)"
   ],
   "metadata": {
    "collapsed": false,
    "pycharm": {
     "name": "#%%\n"
    }
   }
  },
  {
   "cell_type": "code",
   "execution_count": 51,
   "outputs": [
    {
     "name": "stdout",
     "output_type": "stream",
     "text": [
      "vocabulary size is 690960\n"
     ]
    }
   ],
   "source": [
    "print(f\"vocabulary size is {vocab_size}\")"
   ],
   "metadata": {
    "collapsed": false,
    "pycharm": {
     "name": "#%%\n"
    }
   }
  },
  {
   "cell_type": "code",
   "execution_count": 52,
   "outputs": [],
   "source": [
    "type(word_index)\n",
    "word_index_items=word_index.items()"
   ],
   "metadata": {
    "collapsed": false,
    "pycharm": {
     "name": "#%%\n"
    }
   }
  },
  {
   "cell_type": "code",
   "execution_count": 53,
   "outputs": [
    {
     "data": {
      "text/plain": "[('i', 1), ('to', 2), ('the', 3), ('a', 4), ('my', 5)]"
     },
     "execution_count": 53,
     "metadata": {},
     "output_type": "execute_result"
    }
   ],
   "source": [
    "type(word_index_items)\n",
    "first_few=list(word_index_items)[:5]\n",
    "first_few"
   ],
   "metadata": {
    "collapsed": false,
    "pycharm": {
     "name": "#%%\n"
    }
   }
  },
  {
   "cell_type": "code",
   "execution_count": 54,
   "outputs": [],
   "source": [
    "sequences=tokenizer.texts_to_sequences(sentences)\n",
    "padded=pad_sequences(sequences, maxlen=max_length, padding=padding_type, truncating=trunc_type)\n"
   ],
   "metadata": {
    "collapsed": false,
    "pycharm": {
     "name": "#%%\n"
    }
   }
  },
  {
   "cell_type": "code",
   "execution_count": 55,
   "outputs": [
    {
     "data": {
      "text/plain": "(1600000, 16)"
     },
     "execution_count": 55,
     "metadata": {},
     "output_type": "execute_result"
    }
   ],
   "source": [
    "type(padded)\n",
    "padded.shape"
   ],
   "metadata": {
    "collapsed": false,
    "pycharm": {
     "name": "#%%\n"
    }
   }
  },
  {
   "cell_type": "code",
   "execution_count": 56,
   "outputs": [],
   "source": [
    "split = int(test_portion * training_size)\n",
    "\n",
    "test_sequences = padded[0:split]\n",
    "training_sequences = padded[split:training_size]\n",
    "test_labels = labels[0:split]\n",
    "training_labels = labels[split:training_size]\n"
   ],
   "metadata": {
    "collapsed": false,
    "pycharm": {
     "name": "#%%\n"
    }
   }
  },
  {
   "cell_type": "code",
   "execution_count": 57,
   "outputs": [
    {
     "name": "stdout",
     "output_type": "stream",
     "text": [
      "690960\n",
      "1\n"
     ]
    }
   ],
   "source": [
    "print(vocab_size)\n",
    "print(word_index['i'])\n"
   ],
   "metadata": {
    "collapsed": false,
    "pycharm": {
     "name": "#%%\n"
    }
   }
  },
  {
   "cell_type": "code",
   "execution_count": 58,
   "outputs": [],
   "source": [
    "embeddings_matrix=np.zeros((vocab_size+1, embedding_dim))\n",
    "for word, i in word_index.items():\n",
    "    embedding_vector=embeddings_index.get(word);\n",
    "    if embedding_vector is not None:\n",
    "        embeddings_matrix[i]=embedding_vector;\n"
   ],
   "metadata": {
    "collapsed": false,
    "pycharm": {
     "name": "#%%\n"
    }
   }
  },
  {
   "cell_type": "code",
   "execution_count": 59,
   "outputs": [
    {
     "name": "stdout",
     "output_type": "stream",
     "text": [
      "690961\n"
     ]
    }
   ],
   "source": [
    "print(len(embeddings_matrix))\n"
   ],
   "metadata": {
    "collapsed": false,
    "pycharm": {
     "name": "#%%\n"
    }
   }
  },
  {
   "cell_type": "code",
   "execution_count": 60,
   "outputs": [
    {
     "name": "stdout",
     "output_type": "stream",
     "text": [
      "Model: \"sequential_2\"\n",
      "_________________________________________________________________\n",
      "Layer (type)                 Output Shape              Param #   \n",
      "=================================================================\n",
      "embedding_2 (Embedding)      (None, 16, 25)            17274025  \n",
      "_________________________________________________________________\n",
      "dropout_2 (Dropout)          (None, 16, 25)            0         \n",
      "_________________________________________________________________\n",
      "conv1d_2 (Conv1D)            (None, 12, 64)            8064      \n",
      "_________________________________________________________________\n",
      "max_pooling1d_2 (MaxPooling1 (None, 3, 64)             0         \n",
      "_________________________________________________________________\n",
      "lstm_2 (LSTM)                (None, 64)                33024     \n",
      "_________________________________________________________________\n",
      "dense_2 (Dense)              (None, 1)                 65        \n",
      "=================================================================\n",
      "Total params: 17,315,178\n",
      "Trainable params: 41,153\n",
      "Non-trainable params: 17,274,025\n",
      "_________________________________________________________________\n",
      "Epoch 1/50\n",
      "45000/45000 - 240s - loss: 0.5563 - accuracy: 0.7075 - val_loss: 0.5179 - val_accuracy: 0.7386\n",
      "Epoch 2/50\n",
      "45000/45000 - 219s - loss: 0.5352 - accuracy: 0.7243 - val_loss: 0.5039 - val_accuracy: 0.7467\n",
      "Epoch 3/50\n",
      "45000/45000 - 237s - loss: 0.5296 - accuracy: 0.7287 - val_loss: 0.5009 - val_accuracy: 0.7482\n",
      "Epoch 4/50\n",
      "45000/45000 - 224s - loss: 0.5267 - accuracy: 0.7309 - val_loss: 0.4971 - val_accuracy: 0.7520\n",
      "Epoch 5/50\n",
      "45000/45000 - 223s - loss: 0.5248 - accuracy: 0.7324 - val_loss: 0.4977 - val_accuracy: 0.7502\n",
      "Epoch 6/50\n",
      "45000/45000 - 204s - loss: 0.5235 - accuracy: 0.7335 - val_loss: 0.4951 - val_accuracy: 0.7526\n",
      "Epoch 7/50\n",
      "45000/45000 - 208s - loss: 0.5227 - accuracy: 0.7342 - val_loss: 0.4943 - val_accuracy: 0.7535\n",
      "Epoch 8/50\n",
      "45000/45000 - 208s - loss: 0.5213 - accuracy: 0.7350 - val_loss: 0.4926 - val_accuracy: 0.7545\n",
      "Epoch 9/50\n",
      "45000/45000 - 204s - loss: 0.5206 - accuracy: 0.7355 - val_loss: 0.4934 - val_accuracy: 0.7547\n",
      "Epoch 10/50\n"
     ]
    },
    {
     "ename": "KeyboardInterrupt",
     "evalue": "",
     "output_type": "error",
     "traceback": [
      "\u001B[1;31m---------------------------------------------------------------------------\u001B[0m",
      "\u001B[1;31mKeyboardInterrupt\u001B[0m                         Traceback (most recent call last)",
      "\u001B[1;32m<ipython-input-60-01aef4eff8fc>\u001B[0m in \u001B[0;36m<module>\u001B[1;34m\u001B[0m\n\u001B[0;32m     17\u001B[0m \u001B[0mtesting_labels\u001B[0m \u001B[1;33m=\u001B[0m \u001B[0mnp\u001B[0m\u001B[1;33m.\u001B[0m\u001B[0marray\u001B[0m\u001B[1;33m(\u001B[0m\u001B[0mtest_labels\u001B[0m\u001B[1;33m)\u001B[0m\u001B[1;33m\u001B[0m\u001B[1;33m\u001B[0m\u001B[0m\n\u001B[0;32m     18\u001B[0m \u001B[1;33m\u001B[0m\u001B[0m\n\u001B[1;32m---> 19\u001B[1;33m \u001B[0mhistory\u001B[0m \u001B[1;33m=\u001B[0m \u001B[0mmodel\u001B[0m\u001B[1;33m.\u001B[0m\u001B[0mfit\u001B[0m\u001B[1;33m(\u001B[0m\u001B[0mtraining_padded\u001B[0m\u001B[1;33m,\u001B[0m \u001B[0mtraining_labels\u001B[0m\u001B[1;33m,\u001B[0m \u001B[0mepochs\u001B[0m\u001B[1;33m=\u001B[0m\u001B[0mnum_epochs\u001B[0m\u001B[1;33m,\u001B[0m \u001B[0mvalidation_data\u001B[0m\u001B[1;33m=\u001B[0m\u001B[1;33m(\u001B[0m\u001B[0mtesting_padded\u001B[0m\u001B[1;33m,\u001B[0m \u001B[0mtesting_labels\u001B[0m\u001B[1;33m)\u001B[0m\u001B[1;33m,\u001B[0m \u001B[0mverbose\u001B[0m\u001B[1;33m=\u001B[0m\u001B[1;36m2\u001B[0m\u001B[1;33m)\u001B[0m\u001B[1;33m\u001B[0m\u001B[1;33m\u001B[0m\u001B[0m\n\u001B[0m\u001B[0;32m     20\u001B[0m \u001B[1;33m\u001B[0m\u001B[0m\n\u001B[0;32m     21\u001B[0m \u001B[0mprint\u001B[0m\u001B[1;33m(\u001B[0m\u001B[1;34m\"Training Complete\"\u001B[0m\u001B[1;33m)\u001B[0m\u001B[1;33m\u001B[0m\u001B[1;33m\u001B[0m\u001B[0m\n",
      "\u001B[1;32m~\\anaconda3\\lib\\site-packages\\tensorflow\\python\\keras\\engine\\training.py\u001B[0m in \u001B[0;36mfit\u001B[1;34m(self, x, y, batch_size, epochs, verbose, callbacks, validation_split, validation_data, shuffle, class_weight, sample_weight, initial_epoch, steps_per_epoch, validation_steps, validation_batch_size, validation_freq, max_queue_size, workers, use_multiprocessing)\u001B[0m\n\u001B[0;32m   1098\u001B[0m                 _r=1):\n\u001B[0;32m   1099\u001B[0m               \u001B[0mcallbacks\u001B[0m\u001B[1;33m.\u001B[0m\u001B[0mon_train_batch_begin\u001B[0m\u001B[1;33m(\u001B[0m\u001B[0mstep\u001B[0m\u001B[1;33m)\u001B[0m\u001B[1;33m\u001B[0m\u001B[1;33m\u001B[0m\u001B[0m\n\u001B[1;32m-> 1100\u001B[1;33m               \u001B[0mtmp_logs\u001B[0m \u001B[1;33m=\u001B[0m \u001B[0mself\u001B[0m\u001B[1;33m.\u001B[0m\u001B[0mtrain_function\u001B[0m\u001B[1;33m(\u001B[0m\u001B[0miterator\u001B[0m\u001B[1;33m)\u001B[0m\u001B[1;33m\u001B[0m\u001B[1;33m\u001B[0m\u001B[0m\n\u001B[0m\u001B[0;32m   1101\u001B[0m               \u001B[1;32mif\u001B[0m \u001B[0mdata_handler\u001B[0m\u001B[1;33m.\u001B[0m\u001B[0mshould_sync\u001B[0m\u001B[1;33m:\u001B[0m\u001B[1;33m\u001B[0m\u001B[1;33m\u001B[0m\u001B[0m\n\u001B[0;32m   1102\u001B[0m                 \u001B[0mcontext\u001B[0m\u001B[1;33m.\u001B[0m\u001B[0masync_wait\u001B[0m\u001B[1;33m(\u001B[0m\u001B[1;33m)\u001B[0m\u001B[1;33m\u001B[0m\u001B[1;33m\u001B[0m\u001B[0m\n",
      "\u001B[1;32m~\\anaconda3\\lib\\site-packages\\tensorflow\\python\\eager\\def_function.py\u001B[0m in \u001B[0;36m__call__\u001B[1;34m(self, *args, **kwds)\u001B[0m\n\u001B[0;32m    826\u001B[0m     \u001B[0mtracing_count\u001B[0m \u001B[1;33m=\u001B[0m \u001B[0mself\u001B[0m\u001B[1;33m.\u001B[0m\u001B[0mexperimental_get_tracing_count\u001B[0m\u001B[1;33m(\u001B[0m\u001B[1;33m)\u001B[0m\u001B[1;33m\u001B[0m\u001B[1;33m\u001B[0m\u001B[0m\n\u001B[0;32m    827\u001B[0m     \u001B[1;32mwith\u001B[0m \u001B[0mtrace\u001B[0m\u001B[1;33m.\u001B[0m\u001B[0mTrace\u001B[0m\u001B[1;33m(\u001B[0m\u001B[0mself\u001B[0m\u001B[1;33m.\u001B[0m\u001B[0m_name\u001B[0m\u001B[1;33m)\u001B[0m \u001B[1;32mas\u001B[0m \u001B[0mtm\u001B[0m\u001B[1;33m:\u001B[0m\u001B[1;33m\u001B[0m\u001B[1;33m\u001B[0m\u001B[0m\n\u001B[1;32m--> 828\u001B[1;33m       \u001B[0mresult\u001B[0m \u001B[1;33m=\u001B[0m \u001B[0mself\u001B[0m\u001B[1;33m.\u001B[0m\u001B[0m_call\u001B[0m\u001B[1;33m(\u001B[0m\u001B[1;33m*\u001B[0m\u001B[0margs\u001B[0m\u001B[1;33m,\u001B[0m \u001B[1;33m**\u001B[0m\u001B[0mkwds\u001B[0m\u001B[1;33m)\u001B[0m\u001B[1;33m\u001B[0m\u001B[1;33m\u001B[0m\u001B[0m\n\u001B[0m\u001B[0;32m    829\u001B[0m       \u001B[0mcompiler\u001B[0m \u001B[1;33m=\u001B[0m \u001B[1;34m\"xla\"\u001B[0m \u001B[1;32mif\u001B[0m \u001B[0mself\u001B[0m\u001B[1;33m.\u001B[0m\u001B[0m_experimental_compile\u001B[0m \u001B[1;32melse\u001B[0m \u001B[1;34m\"nonXla\"\u001B[0m\u001B[1;33m\u001B[0m\u001B[1;33m\u001B[0m\u001B[0m\n\u001B[0;32m    830\u001B[0m       \u001B[0mnew_tracing_count\u001B[0m \u001B[1;33m=\u001B[0m \u001B[0mself\u001B[0m\u001B[1;33m.\u001B[0m\u001B[0mexperimental_get_tracing_count\u001B[0m\u001B[1;33m(\u001B[0m\u001B[1;33m)\u001B[0m\u001B[1;33m\u001B[0m\u001B[1;33m\u001B[0m\u001B[0m\n",
      "\u001B[1;32m~\\anaconda3\\lib\\site-packages\\tensorflow\\python\\eager\\def_function.py\u001B[0m in \u001B[0;36m_call\u001B[1;34m(self, *args, **kwds)\u001B[0m\n\u001B[0;32m    853\u001B[0m       \u001B[1;31m# In this case we have created variables on the first call, so we run the\u001B[0m\u001B[1;33m\u001B[0m\u001B[1;33m\u001B[0m\u001B[1;33m\u001B[0m\u001B[0m\n\u001B[0;32m    854\u001B[0m       \u001B[1;31m# defunned version which is guaranteed to never create variables.\u001B[0m\u001B[1;33m\u001B[0m\u001B[1;33m\u001B[0m\u001B[1;33m\u001B[0m\u001B[0m\n\u001B[1;32m--> 855\u001B[1;33m       \u001B[1;32mreturn\u001B[0m \u001B[0mself\u001B[0m\u001B[1;33m.\u001B[0m\u001B[0m_stateless_fn\u001B[0m\u001B[1;33m(\u001B[0m\u001B[1;33m*\u001B[0m\u001B[0margs\u001B[0m\u001B[1;33m,\u001B[0m \u001B[1;33m**\u001B[0m\u001B[0mkwds\u001B[0m\u001B[1;33m)\u001B[0m  \u001B[1;31m# pylint: disable=not-callable\u001B[0m\u001B[1;33m\u001B[0m\u001B[1;33m\u001B[0m\u001B[0m\n\u001B[0m\u001B[0;32m    856\u001B[0m     \u001B[1;32melif\u001B[0m \u001B[0mself\u001B[0m\u001B[1;33m.\u001B[0m\u001B[0m_stateful_fn\u001B[0m \u001B[1;32mis\u001B[0m \u001B[1;32mnot\u001B[0m \u001B[1;32mNone\u001B[0m\u001B[1;33m:\u001B[0m\u001B[1;33m\u001B[0m\u001B[1;33m\u001B[0m\u001B[0m\n\u001B[0;32m    857\u001B[0m       \u001B[1;31m# Release the lock early so that multiple threads can perform the call\u001B[0m\u001B[1;33m\u001B[0m\u001B[1;33m\u001B[0m\u001B[1;33m\u001B[0m\u001B[0m\n",
      "\u001B[1;32m~\\anaconda3\\lib\\site-packages\\tensorflow\\python\\eager\\function.py\u001B[0m in \u001B[0;36m__call__\u001B[1;34m(self, *args, **kwargs)\u001B[0m\n\u001B[0;32m   2940\u001B[0m       (graph_function,\n\u001B[0;32m   2941\u001B[0m        filtered_flat_args) = self._maybe_define_function(args, kwargs)\n\u001B[1;32m-> 2942\u001B[1;33m     return graph_function._call_flat(\n\u001B[0m\u001B[0;32m   2943\u001B[0m         filtered_flat_args, captured_inputs=graph_function.captured_inputs)  # pylint: disable=protected-access\n\u001B[0;32m   2944\u001B[0m \u001B[1;33m\u001B[0m\u001B[0m\n",
      "\u001B[1;32m~\\anaconda3\\lib\\site-packages\\tensorflow\\python\\eager\\function.py\u001B[0m in \u001B[0;36m_call_flat\u001B[1;34m(self, args, captured_inputs, cancellation_manager)\u001B[0m\n\u001B[0;32m   1916\u001B[0m         and executing_eagerly):\n\u001B[0;32m   1917\u001B[0m       \u001B[1;31m# No tape is watching; skip to running the function.\u001B[0m\u001B[1;33m\u001B[0m\u001B[1;33m\u001B[0m\u001B[1;33m\u001B[0m\u001B[0m\n\u001B[1;32m-> 1918\u001B[1;33m       return self._build_call_outputs(self._inference_function.call(\n\u001B[0m\u001B[0;32m   1919\u001B[0m           ctx, args, cancellation_manager=cancellation_manager))\n\u001B[0;32m   1920\u001B[0m     forward_backward = self._select_forward_and_backward_functions(\n",
      "\u001B[1;32m~\\anaconda3\\lib\\site-packages\\tensorflow\\python\\eager\\function.py\u001B[0m in \u001B[0;36mcall\u001B[1;34m(self, ctx, args, cancellation_manager)\u001B[0m\n\u001B[0;32m    553\u001B[0m       \u001B[1;32mwith\u001B[0m \u001B[0m_InterpolateFunctionError\u001B[0m\u001B[1;33m(\u001B[0m\u001B[0mself\u001B[0m\u001B[1;33m)\u001B[0m\u001B[1;33m:\u001B[0m\u001B[1;33m\u001B[0m\u001B[1;33m\u001B[0m\u001B[0m\n\u001B[0;32m    554\u001B[0m         \u001B[1;32mif\u001B[0m \u001B[0mcancellation_manager\u001B[0m \u001B[1;32mis\u001B[0m \u001B[1;32mNone\u001B[0m\u001B[1;33m:\u001B[0m\u001B[1;33m\u001B[0m\u001B[1;33m\u001B[0m\u001B[0m\n\u001B[1;32m--> 555\u001B[1;33m           outputs = execute.execute(\n\u001B[0m\u001B[0;32m    556\u001B[0m               \u001B[0mstr\u001B[0m\u001B[1;33m(\u001B[0m\u001B[0mself\u001B[0m\u001B[1;33m.\u001B[0m\u001B[0msignature\u001B[0m\u001B[1;33m.\u001B[0m\u001B[0mname\u001B[0m\u001B[1;33m)\u001B[0m\u001B[1;33m,\u001B[0m\u001B[1;33m\u001B[0m\u001B[1;33m\u001B[0m\u001B[0m\n\u001B[0;32m    557\u001B[0m               \u001B[0mnum_outputs\u001B[0m\u001B[1;33m=\u001B[0m\u001B[0mself\u001B[0m\u001B[1;33m.\u001B[0m\u001B[0m_num_outputs\u001B[0m\u001B[1;33m,\u001B[0m\u001B[1;33m\u001B[0m\u001B[1;33m\u001B[0m\u001B[0m\n",
      "\u001B[1;32m~\\anaconda3\\lib\\site-packages\\tensorflow\\python\\eager\\execute.py\u001B[0m in \u001B[0;36mquick_execute\u001B[1;34m(op_name, num_outputs, inputs, attrs, ctx, name)\u001B[0m\n\u001B[0;32m     57\u001B[0m   \u001B[1;32mtry\u001B[0m\u001B[1;33m:\u001B[0m\u001B[1;33m\u001B[0m\u001B[1;33m\u001B[0m\u001B[0m\n\u001B[0;32m     58\u001B[0m     \u001B[0mctx\u001B[0m\u001B[1;33m.\u001B[0m\u001B[0mensure_initialized\u001B[0m\u001B[1;33m(\u001B[0m\u001B[1;33m)\u001B[0m\u001B[1;33m\u001B[0m\u001B[1;33m\u001B[0m\u001B[0m\n\u001B[1;32m---> 59\u001B[1;33m     tensors = pywrap_tfe.TFE_Py_Execute(ctx._handle, device_name, op_name,\n\u001B[0m\u001B[0;32m     60\u001B[0m                                         inputs, attrs, num_outputs)\n\u001B[0;32m     61\u001B[0m   \u001B[1;32mexcept\u001B[0m \u001B[0mcore\u001B[0m\u001B[1;33m.\u001B[0m\u001B[0m_NotOkStatusException\u001B[0m \u001B[1;32mas\u001B[0m \u001B[0me\u001B[0m\u001B[1;33m:\u001B[0m\u001B[1;33m\u001B[0m\u001B[1;33m\u001B[0m\u001B[0m\n",
      "\u001B[1;31mKeyboardInterrupt\u001B[0m: "
     ]
    }
   ],
   "source": [
    "model = tf.keras.Sequential([\n",
    "    tf.keras.layers.Embedding(vocab_size+1, embedding_dim, input_length=max_length, weights=[embeddings_matrix], trainable=False),\n",
    "    tf.keras.layers.Dropout(0.2),\n",
    "    tf.keras.layers.Conv1D(64, 5, activation='relu'),\n",
    "    tf.keras.layers.MaxPooling1D(pool_size=4),\n",
    "    tf.keras.layers.LSTM(64),\n",
    "    tf.keras.layers.Dense(1, activation='sigmoid')\n",
    "])\n",
    "model.compile(loss='binary_crossentropy',optimizer='adam',metrics=['accuracy'])\n",
    "model.summary()\n",
    "\n",
    "\n",
    "\n",
    "training_padded = np.array(training_sequences)\n",
    "training_labels = np.array(training_labels)\n",
    "testing_padded = np.array(test_sequences)\n",
    "testing_labels = np.array(test_labels)"
   ],
   "metadata": {
    "collapsed": false,
    "pycharm": {
     "name": "#%%\n"
    }
   }
  },
  {
   "cell_type": "code",
   "execution_count": 62,
   "outputs": [
    {
     "name": "stdout",
     "output_type": "stream",
     "text": [
      "Epoch 1/5\n",
      "45000/45000 - 210s - loss: 0.5195 - accuracy: 0.7365 - val_loss: 0.4922 - val_accuracy: 0.7545\n",
      "Epoch 2/5\n",
      "45000/45000 - 206s - loss: 0.5196 - accuracy: 0.7365 - val_loss: 0.4920 - val_accuracy: 0.7557\n",
      "Epoch 3/5\n",
      "45000/45000 - 232s - loss: 0.5192 - accuracy: 0.7366 - val_loss: 0.4912 - val_accuracy: 0.7558\n",
      "Epoch 4/5\n",
      "45000/45000 - 235s - loss: 0.5187 - accuracy: 0.7372 - val_loss: 0.4907 - val_accuracy: 0.7566\n",
      "Epoch 5/5\n",
      "45000/45000 - 229s - loss: 0.5187 - accuracy: 0.7372 - val_loss: 0.4909 - val_accuracy: 0.7568\n",
      "Training Complete\n"
     ]
    }
   ],
   "source": [
    "num_epochs = 5\n",
    "history = model.fit(training_padded, training_labels, epochs=num_epochs, validation_data=(testing_padded, testing_labels), verbose=2)\n",
    "\n",
    "print(\"Training Complete\")"
   ],
   "metadata": {
    "collapsed": false,
    "pycharm": {
     "name": "#%%\n"
    }
   }
  },
  {
   "cell_type": "code",
   "execution_count": 61,
   "outputs": [
    {
     "data": {
      "text/plain": "[array([[ 0.      ,  0.      ,  0.      , ...,  0.      ,  0.      ,\n          0.      ],\n        [-0.26079 ,  0.59108 ,  0.61622 , ...,  0.076869,  0.2284  ,\n          0.2758  ],\n        [ 0.28228 ,  0.019558,  0.11509 , ...,  0.2143  ,  0.25422 ,\n         -0.26674 ],\n        ...,\n        [ 0.      ,  0.      ,  0.      , ...,  0.      ,  0.      ,\n          0.      ],\n        [ 0.      ,  0.      ,  0.      , ...,  0.      ,  0.      ,\n          0.      ],\n        [ 0.      ,  0.      ,  0.      , ...,  0.      ,  0.      ,\n          0.      ]], dtype=float32),\n array([[[ 1.74240196e+00, -3.39430064e-01,  2.12761700e-01, ...,\n           6.27387226e-01,  7.75899515e-02,  2.02361703e+00],\n         [-2.89752936e+00, -8.28644559e-02,  1.15489233e+00, ...,\n          -1.11800706e+00, -1.69971657e+00,  2.56781638e-01],\n         [ 4.53247994e-01,  6.29295230e-01, -1.23749733e+00, ...,\n           5.55337965e-01, -9.70633328e-01, -1.89454901e+00],\n         ...,\n         [-1.70266557e+00,  2.64386654e-01,  2.25455537e-02, ...,\n          -4.79574472e-01, -6.12259626e-01, -8.33254874e-01],\n         [ 1.05964518e+00,  2.09933028e-01,  4.91377234e-01, ...,\n           4.89816606e-01, -3.41341645e-01,  5.79886973e-01],\n         [ 1.43654919e+00,  8.15468788e-01, -6.50741637e-01, ...,\n          -7.64350355e-01,  1.17669666e+00,  9.12093446e-02]],\n \n        [[-3.36643904e-01,  6.58026695e-01,  5.13905585e-01, ...,\n          -1.23052537e+00,  1.17383552e+00, -6.54619157e-01],\n         [ 5.54209836e-02, -9.90059614e-01, -1.37126553e+00, ...,\n          -1.06077540e+00,  7.00490594e-01, -2.73028433e-01],\n         [-1.71504453e-01, -7.81881571e-01,  2.58922540e-02, ...,\n           1.63024232e-01, -1.35559487e+00, -1.44566166e+00],\n         ...,\n         [ 8.92351717e-02,  3.39482352e-02, -1.73736438e-02, ...,\n           5.54272950e-01,  1.44562042e+00,  1.88523054e-01],\n         [ 7.23133907e-02,  2.54348237e-02,  3.13924134e-01, ...,\n           1.87089872e+00,  1.31649897e-01,  6.91488326e-01],\n         [ 2.61607051e-01,  3.57075751e-01, -1.06601693e-01, ...,\n           7.63991117e-01,  8.90433311e-01,  4.08115834e-01]],\n \n        [[ 2.24952981e-01, -3.23166400e-01,  1.95156455e-01, ...,\n           1.62234694e-01, -8.23735058e-01, -1.21505976e-01],\n         [ 1.10413529e-01,  3.53286058e-01,  5.67356169e-01, ...,\n          -5.07845879e-01,  8.87474537e-01, -5.20723641e-01],\n         [-2.79402643e-01, -7.08300710e-01, -1.05562973e+00, ...,\n          -4.66628164e-01, -2.03835130e+00, -1.22395003e+00],\n         ...,\n         [ 4.09201920e-01, -4.67215069e-02,  5.56852102e-01, ...,\n           4.67524379e-02,  6.05153084e-01, -1.77643985e-01],\n         [-1.46745130e-01,  4.18394089e-01,  8.21688846e-02, ...,\n           5.04781194e-02,  1.11746681e+00,  3.68300468e-01],\n         [ 3.80718201e-01,  2.35350117e-01,  4.29277718e-01, ...,\n           7.51931429e-01, -4.52435821e-01, -2.32574597e-01]],\n \n        [[ 9.30283591e-02, -5.21314004e-03, -5.36286891e-01, ...,\n           3.71557355e-01,  7.68172890e-02, -1.12043917e-01],\n         [ 5.74152283e-02, -1.45846277e-01,  1.66983649e-01, ...,\n           2.24654794e-01, -2.59319693e-03, -2.97429532e-01],\n         [-3.89034629e-01, -8.89558569e-02, -3.23022306e-01, ...,\n          -2.81956252e-02, -2.78627634e-01, -2.21180543e-01],\n         ...,\n         [-9.18712467e-03, -1.63198523e-02,  6.91888511e-01, ...,\n           1.97921216e-01, -8.55446458e-02, -2.36684680e-01],\n         [ 7.47894049e-02,  2.47993007e-01,  2.43188828e-01, ...,\n           2.84387589e-01,  3.73539925e-01,  2.07609367e-02],\n         [-4.32335287e-02,  4.15750712e-01,  2.83346474e-01, ...,\n          -2.00302318e-01, -1.63105980e-01,  2.87107974e-02]],\n \n        [[-8.86623710e-02,  2.92071819e-01, -2.41564915e-01, ...,\n           1.55077890e-01, -3.16158265e-01, -1.45387620e-01],\n         [ 4.94690379e-03, -1.72674716e-01, -8.24295580e-02, ...,\n          -1.40384972e-01,  4.10565108e-01, -1.33629799e-01],\n         [-9.79740694e-02,  3.55988026e-01, -2.30670482e-01, ...,\n           2.67228186e-02, -3.43478292e-01, -4.53331731e-02],\n         ...,\n         [-1.35109961e-01,  6.49269372e-02, -1.42526612e-01, ...,\n          -2.99208965e-02,  2.79719174e-01,  4.63382713e-02],\n         [-1.52413219e-01,  1.47520125e-01,  6.98258951e-02, ...,\n           7.65770525e-02, -6.33051276e-01,  1.49709582e-01],\n         [-8.65377635e-02, -1.50087565e-01,  3.34016740e-01, ...,\n          -1.33807091e-02, -3.55225027e-01,  1.34931549e-01]]],\n       dtype=float32),\n array([-3.644437  , -2.7189848 , -2.7782512 , -1.8953896 , -1.344643  ,\n        -1.2362481 , -2.3654723 , -0.70364434, -0.04929382, -2.6570823 ,\n        -0.40874174,  0.29019225, -1.7633293 , -1.0815771 , -3.3592412 ,\n         0.00793935, -4.1086874 , -1.2369814 , -2.7761195 , -0.01670643,\n        -1.5624977 , -2.8611684 , -4.566983  , -0.61031854, -1.9842683 ,\n        -0.59562117, -2.9111607 , -0.51004434, -2.540383  , -0.04094722,\n        -2.7112832 ,  0.5130949 , -3.3602848 , -1.4983565 , -0.61107016,\n        -3.9051633 , -1.749715  , -1.6426585 , -3.8293707 , -0.88319653,\n        -0.59218657, -0.970376  , -4.5491447 , -2.8794417 , -2.0821948 ,\n        -1.7037315 , -1.7281681 , -1.4794078 , -2.8315623 , -2.606591  ,\n        -1.5279908 , -3.0267315 , -2.7274542 , -0.19283769, -2.0603037 ,\n        -3.4567904 , -3.041378  , -3.965654  , -2.628344  , -2.8758662 ,\n        -2.0522351 ,  0.04826935,  0.60195   , -1.4211631 ], dtype=float32),\n array([[ 0.30469057,  0.12218087,  0.34600794, ..., -0.05020674,\n          0.3373397 ,  0.63476783],\n        [-0.49171552,  0.3404324 , -0.45389608, ..., -0.63069457,\n         -0.1511683 ,  0.5299878 ],\n        [-0.2384188 , -0.49730003, -0.10191479, ...,  0.1492463 ,\n          0.33682945,  0.19222853],\n        ...,\n        [ 0.7861048 , -0.70461094,  0.37344372, ...,  0.17061128,\n         -0.11903021, -0.44775894],\n        [-0.5368849 ,  0.12098225, -0.32264134, ...,  0.09194285,\n          0.11939991,  0.11410803],\n        [-0.7447917 , -0.5280227 ,  0.8534634 , ...,  1.3396277 ,\n          0.02495371, -0.0100822 ]], dtype=float32),\n array([[-0.01069817, -0.8010296 ,  0.66120374, ...,  1.4713475 ,\n          0.14662786, -0.6889081 ],\n        [ 0.38577136, -1.030006  ,  0.68338555, ..., -0.6855397 ,\n         -0.634797  ,  0.5538873 ],\n        [-0.00509881, -0.5734717 , -1.2546897 , ...,  0.6786915 ,\n         -1.3867848 , -0.63469297],\n        ...,\n        [ 1.4323838 , -0.43349642, -0.10271506, ..., -2.5619133 ,\n         -0.87576205,  0.2813018 ],\n        [ 0.7479866 ,  0.30598426,  1.1244551 , ..., -0.5096836 ,\n         -1.2543278 ,  0.22628313],\n        [ 1.1258708 ,  0.24542478,  0.49279022, ...,  0.64034796,\n          0.36272597,  0.32940763]], dtype=float32),\n array([-2.3971093 , -2.1079597 , -2.3474457 , -2.3970132 , -0.97077864,\n        -3.2688732 , -2.9399395 , -0.5306047 , -0.13452886, -1.7101666 ,\n        -0.15739058, -2.2365396 , -1.621706  , -1.1469995 , -1.5886961 ,\n        -0.8354096 , -0.08016713, -2.2427423 , -0.81803626, -0.6835008 ,\n        -1.3100171 , -2.6747887 , -1.4629396 , -1.7889118 ,  0.5304166 ,\n        -1.8143202 , -1.519535  , -1.4315432 , -0.7980249 , -0.4995357 ,\n        -2.5698242 , -0.88566726, -1.8100452 , -2.677104  , -3.380292  ,\n        -2.584757  , -1.7269989 , -1.1115484 , -0.66580385, -2.335042  ,\n        -0.34174144, -2.1546752 , -1.5409675 , -1.7206364 , -2.4432144 ,\n        -0.17572159, -0.2722482 , -1.5995148 , -2.032627  , -3.026325  ,\n         1.0258878 , -2.581459  , -1.1281841 , -2.346669  , -1.4462277 ,\n        -2.012507  , -1.9106611 , -0.45457384, -1.8554162 , -2.4882362 ,\n        -1.9185758 , -2.328592  ,  0.1543136 , -1.6319786 ,  0.2942763 ,\n         0.57043797,  0.29758576,  0.7891604 ,  1.0599871 ,  0.17607372,\n         0.71514237,  0.6778513 ,  1.030496  ,  0.45056   ,  1.3541127 ,\n         0.75422925,  0.37843245,  0.344242  ,  0.9424136 , -0.488762  ,\n         0.6959352 ,  1.0121439 ,  1.1072428 ,  0.9970475 ,  1.3137239 ,\n         0.9903059 ,  0.6637316 ,  0.5863925 ,  2.035905  ,  0.4466016 ,\n         1.095609  ,  1.1366003 ,  0.7230951 ,  0.3668501 ,  0.79357356,\n         1.0090884 ,  0.7086143 ,  0.9245692 ,  0.9113689 ,  1.3606501 ,\n         0.64895415,  1.06278   ,  1.2011507 , -0.12817138,  1.3683553 ,\n         0.3392951 ,  1.9306318 ,  0.43875134,  0.7861243 ,  1.3008509 ,\n         0.82400465,  0.9683856 ,  0.91259694,  0.28505194,  0.64681196,\n         1.4798895 ,  0.5131311 ,  0.06280632,  0.42256293,  1.2836707 ,\n         0.29967928,  1.8192917 ,  0.84477025,  0.33445084,  0.74570113,\n         1.6329963 ,  1.5477549 ,  1.3360991 , -0.9373662 , -0.7207923 ,\n         0.20621672, -1.0505644 , -1.243038  ,  1.8358465 ,  1.1619056 ,\n         0.3111272 , -1.242178  ,  0.5170038 ,  1.0599633 , -0.5105419 ,\n         1.1119667 , -0.2805633 , -1.0569416 , -1.910314  ,  0.7685485 ,\n        -0.60009676,  2.2082388 ,  0.13260743, -0.20029688, -0.26811713,\n        -1.3702711 ,  1.2235997 , -1.6220757 ,  0.2106517 , -0.37693134,\n         0.43777573,  0.53730613, -0.03451925,  1.2421274 , -0.26530918,\n        -0.05499587,  0.7174425 , -1.0481327 , -0.89781916, -0.8542559 ,\n        -0.27848607, -0.8247392 ,  0.88813144,  1.0795867 ,  0.88540417,\n         0.31833974, -0.60819435,  0.635091  , -0.7486665 , -0.5529717 ,\n        -0.82893467,  0.46903253, -1.5714906 ,  2.3485754 , -0.12581751,\n        -1.887095  ,  0.56956905, -0.2993066 , -2.065759  , -0.6573687 ,\n         1.5131581 , -0.18815623, -0.7779189 , -0.31447184, -0.72263   ,\n        -2.3398256 ,  1.8543104 , -0.52196056, -0.7086288 , -1.1051569 ,\n        -1.5512183 , -0.02896674, -1.1732132 , -0.72376144, -0.22787246,\n        -0.11480801, -0.9340873 ,  0.2613458 , -0.80464256, -0.35295886,\n        -0.7243859 , -0.7198338 , -1.4824326 ,  0.43191805, -0.33782327,\n         0.00958162, -0.22867468, -0.24854298, -0.9938952 ,  0.6763044 ,\n        -0.76299804,  1.1268398 , -0.5708758 , -0.24632904, -0.05150929,\n         0.38953188, -1.0985969 , -0.78566605,  0.15449226, -0.92866987,\n        -0.58798796, -0.9674999 , -0.55189383, -0.11467786, -0.63669634,\n        -0.3090779 , -1.2198597 ,  0.54444367, -0.69435346,  0.9477744 ,\n        -0.29437572, -0.4714024 ,  0.05744705, -0.29274994,  0.7246188 ,\n        -0.39331272, -0.7417152 ,  0.26061213, -0.35702172, -0.7764898 ,\n        -1.3397378 , -0.7435294 , -0.6937612 , -0.9776646 ,  0.9267824 ,\n        -0.49784273, -0.8752913 , -0.72503555, -0.961607  , -0.28072125,\n        -0.5912115 ], dtype=float32),\n array([[-0.20405161],\n        [ 0.190558  ],\n        [-0.13509381],\n        [-0.2401982 ],\n        [-0.1494914 ],\n        [ 0.18339765],\n        [ 0.44249249],\n        [ 0.08153404],\n        [-0.04212848],\n        [-0.08362989],\n        [-0.13902691],\n        [-0.09987161],\n        [-0.24666741],\n        [-0.27145007],\n        [ 0.06355174],\n        [-0.1445198 ],\n        [-0.20716484],\n        [-0.17232162],\n        [ 0.12765843],\n        [ 0.17990334],\n        [-0.1825582 ],\n        [ 0.20001844],\n        [ 0.18248136],\n        [ 0.12247298],\n        [-0.18677121],\n        [ 0.15563877],\n        [-0.151892  ],\n        [-0.1271084 ],\n        [ 0.16495427],\n        [-0.11167572],\n        [ 0.28426543],\n        [-0.11761125],\n        [-0.11740794],\n        [-0.397161  ],\n        [-0.14087926],\n        [ 0.10023299],\n        [ 0.07514045],\n        [ 0.29439104],\n        [ 0.16514084],\n        [ 0.25282034],\n        [ 0.13203867],\n        [ 0.2035878 ],\n        [ 0.18210399],\n        [ 0.11679988],\n        [ 0.33631837],\n        [-0.08336014],\n        [-0.11055216],\n        [-0.14591841],\n        [-0.16604215],\n        [-0.2053074 ],\n        [ 0.0160746 ],\n        [ 0.11790576],\n        [-0.17049563],\n        [-0.06927872],\n        [ 0.29044807],\n        [ 0.1283151 ],\n        [-0.14476046],\n        [-0.21061216],\n        [ 0.14914764],\n        [-0.11454761],\n        [-0.16008952],\n        [ 0.1256288 ],\n        [ 0.0493604 ],\n        [-0.28331572]], dtype=float32),\n array([-0.00386738], dtype=float32)]"
     },
     "execution_count": 61,
     "metadata": {},
     "output_type": "execute_result"
    }
   ],
   "source": [
    "model.get_weights()"
   ],
   "metadata": {
    "collapsed": false,
    "pycharm": {
     "name": "#%%\n"
    }
   }
  },
  {
   "cell_type": "code",
   "execution_count": 63,
   "outputs": [
    {
     "data": {
      "text/plain": "<Figure size 432x288 with 0 Axes>"
     },
     "execution_count": 63,
     "metadata": {},
     "output_type": "execute_result"
    },
    {
     "data": {
      "text/plain": "<Figure size 432x288 with 1 Axes>",
      "image/png": "[encoded data removed]"
     },
     "metadata": {
      "needs_background": "light"
     },
     "output_type": "display_data"
    },
    {
     "data": {
      "text/plain": "<Figure size 432x288 with 1 Axes>",
      "image/png": "[encoded data removed]"
     },
     "metadata": {
      "needs_background": "light"
     },
     "output_type": "display_data"
    },
    {
     "data": {
      "text/plain": "<Figure size 432x288 with 0 Axes>"
     },
     "metadata": {},
     "output_type": "display_data"
    }
   ],
   "source": [
    "import matplotlib.pyplot as plt\n",
    "\n",
    "#-----------------------------------------------------------\n",
    "# Retrieve a list of list results on training and test data\n",
    "# sets for each training epoch\n",
    "#-----------------------------------------------------------\n",
    "acc=history.history['accuracy']\n",
    "val_acc=history.history['val_accuracy']\n",
    "loss=history.history['loss']\n",
    "val_loss=history.history['val_loss']\n",
    "\n",
    "epochs=range(len(acc)) # Get number of epochs\n",
    "\n",
    "#------------------------------------------------\n",
    "# Plot training and validation accuracy per epoch\n",
    "#------------------------------------------------\n",
    "plt.plot(epochs, acc, 'r')\n",
    "plt.plot(epochs, val_acc, 'b')\n",
    "plt.title('Training and validation accuracy')\n",
    "plt.xlabel(\"Epochs\")\n",
    "plt.ylabel(\"Accuracy\")\n",
    "plt.legend([\"Accuracy\", \"Validation Accuracy\"])\n",
    "\n",
    "plt.figure()\n",
    "\n",
    "#------------------------------------------------\n",
    "# Plot training and validation loss per epoch\n",
    "#------------------------------------------------\n",
    "plt.plot(epochs, loss, 'r')\n",
    "plt.plot(epochs, val_loss, 'b')\n",
    "plt.title('Training and validation loss')\n",
    "plt.xlabel(\"Epochs\")\n",
    "plt.ylabel(\"Loss\")\n",
    "plt.legend([\"Loss\", \"Validation Loss\"])\n",
    "\n",
    "plt.figure()"
   ],
   "metadata": {
    "collapsed": false,
    "pycharm": {
     "name": "#%%\n"
    }
   }
  },
  {
   "cell_type": "code",
   "execution_count": null,
   "outputs": [],
   "source": [],
   "metadata": {
    "collapsed": false,
    "pycharm": {
     "name": "#%%\n"
    }
   }
  }
 ],
 "metadata": {
  "kernelspec": {
   "display_name": "Python 3",
   "language": "python",
   "name": "python3"
  },
  "language_info": {
   "codemirror_mode": {
    "name": "ipython",
    "version": 2
   },
   "file_extension": ".py",
   "mimetype": "text/x-python",
   "name": "python",
   "nbconvert_exporter": "python",
   "pygments_lexer": "ipython2",
   "version": "2.7.6"
  }
 },
 "nbformat": 4,
 "nbformat_minor": 0
}