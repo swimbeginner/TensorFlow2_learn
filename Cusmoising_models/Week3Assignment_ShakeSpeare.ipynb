{
  "nbformat": 4,
  "nbformat_minor": 0,
  "metadata": {
    "colab": {
      "name": "Week3Assignment_ShakeSpeare.ipynb",
      "provenance": [],
      "toc_visible": true,
      "authorship_tag": "ABX9TyPz5Qjn/unPvguUz8o422fA",
      "include_colab_link": true
    },
    "kernelspec": {
      "name": "python3",
      "display_name": "Python 3"
    },
    "accelerator": "GPU"
  },
  "cells": [
    {
      "cell_type": "markdown",
      "metadata": {
        "id": "view-in-github",
        "colab_type": "text"
      },
      "source": [
        "<a href=\"https://colab.research.google.com/github/swimbeginner/TensorFlow2_learn/blob/main/Week3Assignment_ShakeSpeare.ipynb\" target=\"_parent\"><img src=\"https://colab.research.google.com/assets/colab-badge.svg\" alt=\"Open In Colab\"/></a>"
      ]
    },
    {
      "cell_type": "markdown",
      "metadata": {
        "id": "x7cyXtoEIbt-"
      },
      "source": [
        "# Programming Assignment"
      ]
    },
    {
      "cell_type": "markdown",
      "metadata": {
        "id": "RanDz9KFIhov"
      },
      "source": [
        "## Language model for the Shakespeare dataset"
      ]
    },
    {
      "cell_type": "markdown",
      "metadata": {
        "id": "qC4lRK8Lmm5D"
      },
      "source": [
        "### Instructions\r\n",
        "\r\n",
        "In this notebook, you will use the text preprocessing tools and RNN models to build a character-level language model. You will then train your model on the works of Shakespeare, and use the network to generate your own text.\r\n",
        "\r\n",
        "Some code cells are provided you in the notebook. You should avoid editing provided code, and make sure to execute the cells in order to avoid unexpected errors. Some cells begin with the line: \r\n",
        "\r\n",
        "`#### GRADED CELL ####`\r\n",
        "\r\n",
        "Don't move or edit this first line - this is what the automatic grader looks for to recognise graded cells. These cells require you to write your own code to complete them, and are automatically graded when you submit the notebook. Don't edit the function name or signature provided in these cells, otherwise the automatic grader might not function properly. Inside these graded cells, you can use any functions or classes that are imported below, but make sure you don't use any variables that are outside the scope of the function.\r\n",
        "\r\n",
        "### How to submit\r\n",
        "\r\n",
        "Complete all the tasks you are asked for in the worksheet. When you have finished and are happy with your code, press the **Submit Assignment** button at the top of this notebook.\r\n",
        "\r\n",
        "### Let's get started!\r\n",
        "\r\n",
        "We'll start running some imports, and loading the dataset. Do not edit the existing imports in the following cell. If you would like to make further Tensorflow imports, you should add them here."
      ]
    },
    {
      "cell_type": "code",
      "metadata": {
        "id": "h580Cf0Vsahp"
      },
      "source": [
        "#### PACKAGE IMPORTS ####\r\n",
        "\r\n",
        "# Run this cell first to import all required packages. Do not make any imports elsewhere in the notebook\r\n",
        "\r\n",
        "import tensorflow as tf\r\n",
        "import numpy as np\r\n",
        "import json\r\n",
        "import matplotlib.pyplot as plt\r\n",
        "%matplotlib inline\r\n",
        "\r\n",
        "# If you would like to make further imports from tensorflow, add them here\r\n",
        "\r\n"
      ],
      "execution_count": 1,
      "outputs": []
    },
    {
      "cell_type": "markdown",
      "metadata": {
        "id": "y22k-tHnm044"
      },
      "source": [
        "### The Shakespeare dataset\r\n",
        "\r\n",
        "In this assignment, you will use a subset of the [Shakespeare dataset](http://shakespeare.mit.edu). It consists of a single text file with several excerpts concatenated together. The data is in raw text form, and so far has not yet had any preprocessing. \r\n",
        "\r\n",
        "Your goal is to construct an unsupervised character-level sequence model that can generate text according to a distribution learned from the dataset."
      ]
    },
    {
      "cell_type": "markdown",
      "metadata": {
        "id": "tAKlT0eNm955"
      },
      "source": [
        "#### Import the data\r\n",
        "You should store this file in Drive for use in this Colab notebook."
      ]
    },
    {
      "cell_type": "code",
      "metadata": {
        "colab": {
          "base_uri": "https://localhost:8080/"
        },
        "id": "T4OYvKmbIbIE",
        "outputId": "ad87f6b2-1491-451b-8fd8-d72b3f5ebbf7"
      },
      "source": [
        "# Run this cell to connect to your Drive folder\r\n",
        "\r\n",
        "from google.colab import drive\r\n",
        "drive.mount('/content/gdrive')"
      ],
      "execution_count": 2,
      "outputs": [
        {
          "output_type": "stream",
          "text": [
            "Mounted at /content/gdrive\n"
          ],
          "name": "stdout"
        }
      ]
    },
    {
      "cell_type": "code",
      "metadata": {
        "id": "xR7cqtDNnIby"
      },
      "source": [
        "# Load the text file into a string\r\n",
        "import os\r\n",
        "path='/content/gdrive/MyDrive/CourseraNotes/TensorFlow2_CustomisingYourModel'\r\n",
        "filepath=os.path.join(path, 'Shakespeare.txt')\r\n",
        "with open(filepath, 'r', encoding='utf-8') as file:\r\n",
        "    text = file.read()"
      ],
      "execution_count": 6,
      "outputs": []
    },
    {
      "cell_type": "code",
      "metadata": {
        "id": "I3U-Lj0zrhAt"
      },
      "source": [
        "# Create a list of chunks of text\r\n",
        "text_chunks=text.split('.')"
      ],
      "execution_count": 9,
      "outputs": []
    },
    {
      "cell_type": "code",
      "metadata": {
        "colab": {
          "base_uri": "https://localhost:8080/"
        },
        "id": "agHmWiAiuQff",
        "outputId": "8acc869b-d383-4b6b-cad9-0050aa08aa62"
      },
      "source": [
        "type(text_chunks)\r\n",
        "kk=np.random.choice(5,6, replace=True)\r\n",
        "kk"
      ],
      "execution_count": 17,
      "outputs": [
        {
          "output_type": "execute_result",
          "data": {
            "text/plain": [
              "array([4, 0, 2, 3, 1, 2])"
            ]
          },
          "metadata": {
            "tags": []
          },
          "execution_count": 17
        }
      ]
    },
    {
      "cell_type": "markdown",
      "metadata": {
        "id": "njEjwqg7t1ZH"
      },
      "source": [
        "####To give you a feel for what the text looks like, we will print a few chunks from the list."
      ]
    },
    {
      "cell_type": "code",
      "metadata": {
        "colab": {
          "base_uri": "https://localhost:8080/"
        },
        "id": "_92FDv2zsH8K",
        "outputId": "a7a50a4f-1681-452c-99ee-4e2ea6f8d365"
      },
      "source": [
        "# Display some randomly seleted text smaples\r\n",
        "num_samples=5\r\n",
        "inx=np.random.choice(len(text_chunks), num_samples, replace=False)\r\n",
        "for chunk in np.array(text_chunks)[inx]:\r\n",
        "  print(chunk)"
      ],
      "execution_count": 10,
      "outputs": [
        {
          "output_type": "stream",
          "text": [
            " To do this deed,\n",
            "Promotion follows\n",
            "\n",
            "\n",
            "YORK:\n",
            "Richard, enough; I will be king, or die\n",
            "\n",
            "O Margaret, thus 'twill be; and thou, poor soul,\n",
            "Art then forsaken, as thou went'st forlorn!\n",
            "\n",
            "Second Keeper:\n",
            "Say, what art thou that talk'st of kings and queens?\n",
            "\n",
            "KING HENRY VI:\n",
            "More than I seem, and less than I was born to:\n",
            "A man at least, for less I should not be;\n",
            "And men may talk of kings, and why not I?\n",
            "\n",
            "Second Keeper:\n",
            "Ay, but thou talk'st as if thou wert a king\n",
            "\n",
            "\n",
            "PROSPERO:\n",
            "Silence! one word more\n",
            "Shall make me chide thee, if not hate thee\n",
            "\n",
            "Where is the Earl of Wiltshire? where is Bagot?\n",
            "What is become of Bushy? where is Green?\n",
            "That they have let the dangerous enemy\n",
            "Measure our confines with such peaceful steps?\n",
            "If we prevail, their heads shall pay for it:\n",
            "I warrant they have made peace with Bolingbroke\n"
          ],
          "name": "stdout"
        }
      ]
    },
    {
      "cell_type": "markdown",
      "metadata": {
        "id": "PKdyI_5OwWKY"
      },
      "source": [
        "#### Create a character-level tokenizer"
      ]
    },
    {
      "cell_type": "markdown",
      "metadata": {
        "id": "VSvBCOngwYuF"
      },
      "source": [
        "You should now write a function that returns a `Tokenizer` object. The function takes a list of strings as an argument, and should create a `Tokenizer` according to the following specification:\r\n",
        "\r\n",
        "* The number of tokens should be unlimited (there should be as many as required by the dataset).\r\n",
        "* Tokens should be created at the character level (not at the word level, which is the default behaviour).\r\n",
        "* No characters should be filtered out or ignored.\r\n",
        "* The original capitalization should be retained (do not convert the text to lower case)\r\n",
        "\r\n",
        "The `Tokenizer` should be fit to the `list_of_strings` argument and returned by the function. \r\n",
        "\r\n",
        "**Hint:** you may need to refer to the [documentation](https://www.tensorflow.org/api_docs/python/tf/keras/preprocessing/text/Tokenizer) for the `Tokenizer`."
      ]
    },
    {
      "cell_type": "code",
      "metadata": {
        "id": "4T0-1q0muPm5"
      },
      "source": [
        "#### GRADED CELL ####\r\n",
        "\r\n",
        "# Complete the following function.\r\n",
        "# Make sure not to change the function name or arguments.\r\n",
        "\r\n",
        "def create_character_tokenizer(list_of_strings):\r\n",
        "    \"\"\"\r\n",
        "    This function takes a list of strings as its argument. It should create \r\n",
        "    and return a Tokenizer according to the above specifications. \r\n",
        "    \"\"\"\r\n",
        "    tokenizer=tf.keras.preprocessing.text.Tokenizer(lower=False,char_level=True,filters=None, oov_token=None )\r\n",
        "    tokenizer.fit_on_texts(list_of_strings)\r\n",
        "    return tokenizer"
      ],
      "execution_count": 36,
      "outputs": []
    },
    {
      "cell_type": "code",
      "metadata": {
        "id": "ibPEMryvwiei"
      },
      "source": [
        "# Get the tokenizer\r\n",
        "\r\n",
        "tokenizer = create_character_tokenizer(text_chunks)"
      ],
      "execution_count": 37,
      "outputs": []
    },
    {
      "cell_type": "markdown",
      "metadata": {
        "id": "vGy7Qe-zxmMS"
      },
      "source": [
        "#### Tokenize the text\r\n",
        "\r\n",
        "You should now write a function to use the tokenizer to map each string in `text_chunks` to its corresponding encoded sequence. The following function takes a fitted `Tokenizer` object in the first argument (as returned by `create_character_tokenizer`) and a list of strings in the second argument. The function should return a list of lists, where each sublist is a sequence of integer tokens encoding the text sequences according to the mapping stored in the tokenizer.\r\n",
        "\r\n",
        "**Hint:** you may need to refer to the [documentation](https://www.tensorflow.org/api_docs/python/tf/keras/preprocessing/text/Tokenizer) for the `Tokenizer`."
      ]
    },
    {
      "cell_type": "code",
      "metadata": {
        "id": "xMRg45xWxDT7"
      },
      "source": [
        "#### GRADED CELL ####\r\n",
        "\r\n",
        "# Complete the following function.\r\n",
        "# Make sure not to change the function name or arguments.\r\n",
        "\r\n",
        "def strings_to_sequences(tokenizer, list_of_strings):\r\n",
        "    \"\"\"\r\n",
        "    This function takes a tokenizer object and a list of strings as its arguments.\r\n",
        "    It should use the tokenizer to map the text chunks to sequences of tokens and\r\n",
        "    then return this list of encoded sequences.\r\n",
        "    \"\"\"\r\n",
        "    return  tokenizer.texts_to_sequences(list_of_strings)\r\n"
      ],
      "execution_count": 38,
      "outputs": []
    },
    {
      "cell_type": "code",
      "metadata": {
        "id": "I4yNWJcCxr0G"
      },
      "source": [
        "# Encode the text chunks into tokens\r\n",
        "\r\n",
        "seq_chunks = strings_to_sequences(tokenizer, text_chunks)"
      ],
      "execution_count": 39,
      "outputs": []
    },
    {
      "cell_type": "code",
      "metadata": {
        "colab": {
          "base_uri": "https://localhost:8080/"
        },
        "id": "uleoI62uyZs6",
        "outputId": "e89bd458-020b-46d3-bde4-a2b8a30df00b"
      },
      "source": [
        "i=2000\r\n",
        "print(seq_chunks[i])\r\n",
        "print(text_chunks[i])"
      ],
      "execution_count": 40,
      "outputs": [
        {
          "output_type": "stream",
          "text": [
            "[11, 29, 6, 16, 1, 31, 13, 18, 5, 8, 13, 1, 6, 2, 1, 10, 7, 1, 13, 2, 5, 13, 17, 1, 3, 6, 5, 3, 1, 7, 3, 5, 23, 23, 30, 13, 1, 15, 16, 1, 31, 13, 18, 5, 8, 13, 25, 11, 29, 6, 16, 1, 4, 3, 6, 2, 8, 1, 31, 13, 18, 5, 8, 13, 1, 13, 2, 5, 13, 17, 1, 3, 4, 1, 55, 14, 10, 3, 1, 15, 16, 1, 31, 13, 18, 5, 8, 13, 38, 11, 50, 4, 14, 9, 21, 1, 50, 4, 8, 28, 1, 6, 2, 1, 10, 7, 1, 23, 14, 3, 1, 23, 4, 4, 3, 17, 1, 23, 2, 20, 5, 14, 7, 2, 1, 23, 4, 3, 6, 1, 3, 6, 2, 16, 11, 42, 5, 3, 20, 6, 1, 9, 4, 3, 1, 3, 6, 2, 1, 6, 10, 21, 6, 1, 24, 2, 8, 19, 2, 20, 3, 10, 4, 9, 1, 4, 19, 1, 15, 16, 1, 12, 4, 7, 7, 25, 11, 29, 6, 16, 1, 37, 12, 5, 8, 2, 9, 20, 2, 1, 6, 2, 1, 10, 7, 1, 13, 2, 5, 13, 1, 3, 6, 5, 3, 1, 28, 10, 12, 12, 30, 13, 1, 15, 16, 1, 31, 13, 18, 5, 8, 13, 38, 11, 26, 9, 13, 1, 3, 6, 2, 1, 23, 2, 6, 4, 12, 13, 2, 8, 7, 1, 4, 19, 1, 3, 6, 10, 7, 1, 3, 8, 5, 21, 10, 20, 1, 24, 12, 5, 16, 17, 11, 29, 6, 2, 1, 5, 13, 14, 12, 3, 2, 8, 5, 3, 2, 1, 41, 5, 7, 3, 10, 9, 21, 7, 17, 1, 34, 10, 27, 2, 8, 7, 17, 1, 53, 5, 14, 21, 6, 5, 9, 17, 1, 45, 8, 2, 16, 17, 11, 40, 9, 3, 10, 15, 2, 12, 16, 1, 7, 15, 4, 3, 6, 2, 8, 30, 13, 1, 10, 9, 1, 3, 6, 2, 10, 8, 1, 13, 14, 7, 28, 16, 1, 21, 8, 5, 27, 2, 7]\n",
            "\n",
            "Thy Edward he is dead, that stabb'd my Edward:\n",
            "Thy other Edward dead, to quit my Edward;\n",
            "Young York he is but boot, because both they\n",
            "Match not the high perfection of my loss:\n",
            "Thy Clarence he is dead that kill'd my Edward;\n",
            "And the beholders of this tragic play,\n",
            "The adulterate Hastings, Rivers, Vaughan, Grey,\n",
            "Untimely smother'd in their dusky graves\n"
          ],
          "name": "stdout"
        }
      ]
    },
    {
      "cell_type": "markdown",
      "metadata": {
        "id": "FVAqIDzgyumA"
      },
      "source": [
        "#### Pad the encoded sequences and store them in a numpy array"
      ]
    },
    {
      "cell_type": "markdown",
      "metadata": {
        "id": "TfYlq4fBywa2"
      },
      "source": [
        "Since not all of the text chunks are the same length, you will need to pad them in order to train on batches. You should now complete the following function, which takes the list of lists of tokens, and creates a single numpy array with the token sequences in the rows, according to the following specification:\r\n",
        "\r\n",
        "* The longest allowed sequence should be 500 tokens. Any sequence that is longer should be shortened by truncating the beginning of the sequence.\r\n",
        "* Use zeros for padding the sequences. The zero padding should be placed before the sequences as required.\r\n",
        "\r\n",
        "The function should then return the resulting numpy array.\r\n",
        "\r\n",
        "**Hint:** you may want to refer to the [documentation](https://www.tensorflow.org/api_docs/python/tf/keras/preprocessing/sequence/pad_sequences) for the `pad_sequences` function."
      ]
    },
    {
      "cell_type": "code",
      "metadata": {
        "id": "e_812dYWyc_R"
      },
      "source": [
        "#### GRADED CELL ####\r\n",
        "\r\n",
        "# Complete the following function.\r\n",
        "# Make sure not to change the function name or arguments.\r\n",
        "\r\n",
        "def make_padded_dataset(sequence_chunks):\r\n",
        "    \"\"\"\r\n",
        "    This function takes a list of lists of tokenized sequences, and transforms\r\n",
        "    them into a 2D numpy array, padding the sequences as necessary according to\r\n",
        "    the above specification. The function should then return the numpy array.\r\n",
        "    \"\"\"\r\n",
        "    return tf.keras.preprocessing.sequence.pad_sequences(sequence_chunks, maxlen=500, padding='pre', truncating='pre')"
      ],
      "execution_count": 41,
      "outputs": []
    },
    {
      "cell_type": "code",
      "metadata": {
        "id": "EkTgP2C_zRmz"
      },
      "source": [
        "padded_sequences = make_padded_dataset(seq_chunks)"
      ],
      "execution_count": 42,
      "outputs": []
    },
    {
      "cell_type": "markdown",
      "metadata": {
        "id": "rB9vEOHAz61t"
      },
      "source": [
        "#### Create model inputs and targets\r\n",
        "\r\n",
        "Now you are ready to build your RNN model. The model will receive a sequence of characters and predict the next character in the sequence. At training time, the model can be passed an input sequence, with the target sequence is shifted by one.\r\n",
        "\r\n",
        "For example, the expression `To be or not to be` appears in Shakespeare's play 'Hamlet'. Given input `To be or not to b`, the correct prediction is `o be or not to be`. Notice that the prediction is the same length as the input!\r\n",
        "\r\n",
        "![sequence_prediction_example](data/rnn_example.png)\r\n",
        "\r\n",
        "You should now write the following function to create an input and target array from the current `padded_sequences` array. The function has a single argument that is a 2D numpy array of shape `(num_examples, max_seq_len)`. It should fulfil the following specification:\r\n",
        "\r\n",
        "* The function should return an input array and an output array, both of size `(num_examples, max_seq_len - 1)`.\r\n",
        "* The input array should contain the first `max_seq_len - 1` tokens of each sequence. \r\n",
        "* The output array should contain the last `max_seq_len - 1` tokens of each sequence. \r\n",
        "\r\n",
        "The function should then return the tuple `(input_array, output_array)`. Note that it is possible to complete this function using numpy indexing alone!"
      ]
    },
    {
      "cell_type": "code",
      "metadata": {
        "id": "9Zdroi9_zWsw"
      },
      "source": [
        "#### GRADED CELL ####\r\n",
        "\r\n",
        "# Complete the following function.\r\n",
        "# Make sure not to change the function name or arguments.\r\n",
        "\r\n",
        "def create_inputs_and_targets(array_of_sequences):\r\n",
        "    \"\"\"\r\n",
        "    This function takes a 2D numpy array of token sequences, and returns a tuple of two\r\n",
        "    elements: the first element is the input array and the second element is the output\r\n",
        "    array, which are defined according to the above specification.\r\n",
        "    \"\"\"   \r\n",
        "    return (array_of_sequences[:,:-1], array_of_sequences[:, 1:])"
      ],
      "execution_count": 43,
      "outputs": []
    },
    {
      "cell_type": "code",
      "metadata": {
        "id": "ei9GbttHz_Y-"
      },
      "source": [
        "# Create the input and output arrays\r\n",
        "\r\n",
        "input_seq, target_seq = create_inputs_and_targets(padded_sequences)"
      ],
      "execution_count": 44,
      "outputs": []
    },
    {
      "cell_type": "markdown",
      "metadata": {
        "id": "b3dORrdC0LqD"
      },
      "source": [
        "#### Preprocess sequence array for stateful RNN\r\n",
        "\r\n",
        "We will build our RNN language model to be stateful, so that the internal state of the RNN will be maintained across batches. For this to be effective, we need to make sure that each element of every batch follows on from the corresponding element of the preceding batch (you may want to look back at the \"Stateful RNNs\" reading notebook earlier in the week).\r\n",
        "\r\n",
        "The following code processes the input and output sequence arrays so that they are ready to be split into batches for training a stateful RNN, by re-ordering the sequence examples (the rows) according to a specified batch size. "
      ]
    },
    {
      "cell_type": "code",
      "metadata": {
        "id": "YUyff1JN0BjI"
      },
      "source": [
        "# Fix the batch size for training\r\n",
        "\r\n",
        "batch_size = 32"
      ],
      "execution_count": 45,
      "outputs": []
    },
    {
      "cell_type": "code",
      "metadata": {
        "id": "IWjruHkZ0XmY"
      },
      "source": [
        "# Prepare input and output arrays for training the stateful RNN\r\n",
        "\r\n",
        "num_examples = input_seq.shape[0]\r\n",
        "\r\n",
        "num_processed_examples = num_examples - (num_examples % batch_size)\r\n",
        "\r\n",
        "input_seq = input_seq[:num_processed_examples]\r\n",
        "target_seq = target_seq[:num_processed_examples]\r\n",
        "\r\n",
        "steps = int(num_processed_examples / 32)  # steps per epoch\r\n",
        "\r\n",
        "inx = np.empty((0,), dtype=np.int32)\r\n",
        "for i in range(steps):\r\n",
        "    inx = np.concatenate((inx, i + np.arange(0, num_processed_examples, steps)))\r\n",
        "\r\n",
        "input_seq_stateful = input_seq[inx]\r\n",
        "target_seq_stateful = target_seq[inx]"
      ],
      "execution_count": 46,
      "outputs": []
    },
    {
      "cell_type": "code",
      "metadata": {
        "colab": {
          "base_uri": "https://localhost:8080/"
        },
        "id": "0BseZWLE1Toy",
        "outputId": "544ce947-218a-4bc4-b354-5c252c4b1344"
      },
      "source": [
        "inx"
      ],
      "execution_count": 53,
      "outputs": [
        {
          "output_type": "execute_result",
          "data": {
            "text/plain": [
              "array([   0,  246,  492, ..., 7379, 7625, 7871])"
            ]
          },
          "metadata": {
            "tags": []
          },
          "execution_count": 53
        }
      ]
    },
    {
      "cell_type": "markdown",
      "metadata": {
        "id": "YVgQ0O1q1SKr"
      },
      "source": [
        ""
      ]
    },
    {
      "cell_type": "markdown",
      "metadata": {
        "id": "Wsd9Aq__0nix"
      },
      "source": [
        "#### Split the data into training and validation sets\r\n",
        "\r\n",
        "We will set aside approximately 20% of the data for validation."
      ]
    },
    {
      "cell_type": "code",
      "metadata": {
        "id": "1BsrPVIV0aJT"
      },
      "source": [
        "# Create the training and validation splits\r\n",
        "\r\n",
        "num_train_examples = int(batch_size * ((0.8 * num_processed_examples) // batch_size))\r\n",
        "\r\n",
        "input_train = input_seq_stateful[:num_train_examples]\r\n",
        "target_train = target_seq_stateful[:num_train_examples]\r\n",
        "\r\n",
        "input_valid = input_seq_stateful[num_train_examples:]\r\n",
        "target_valid = target_seq_stateful[num_train_examples:]"
      ],
      "execution_count": 49,
      "outputs": []
    },
    {
      "cell_type": "code",
      "metadata": {
        "colab": {
          "base_uri": "https://localhost:8080/"
        },
        "id": "sqs9GVMI1IE9",
        "outputId": "cbaa7959-44c9-410b-d4fc-7fd1eefcdc0a"
      },
      "source": [
        "input_train.shape"
      ],
      "execution_count": 50,
      "outputs": [
        {
          "output_type": "execute_result",
          "data": {
            "text/plain": [
              "(6272, 499)"
            ]
          },
          "metadata": {
            "tags": []
          },
          "execution_count": 50
        }
      ]
    },
    {
      "cell_type": "markdown",
      "metadata": {
        "id": "G3-ba-Pz0zIS"
      },
      "source": [
        "#### Create training and validation Dataset objects\r\n",
        "\r\n",
        "You should now write a function to take the training and validation input and target arrays, and create training and validation `tf.data.Dataset` objects. The function takes an input array and target array in the first two arguments, and the batch size in the third argument. Your function should do the following:\r\n",
        "\r\n",
        "* Create a `Dataset` using the `from_tensor_slices` static method, passing in a tuple of the input and output numpy arrays.\r\n",
        "* Batch the `Dataset` using the `batch_size` argument, setting `drop_remainder` to `True`. \r\n",
        "\r\n",
        "The function should then return the `Dataset` object."
      ]
    },
    {
      "cell_type": "code",
      "metadata": {
        "id": "DstXWhm20sPT"
      },
      "source": [
        "#### GRADED CELL ####\r\n",
        "\r\n",
        "# Complete the following function.\r\n",
        "# Make sure not to change the function name or arguments.\r\n",
        "\r\n",
        "def make_Dataset(input_array, target_array, batch_size):\r\n",
        "    \"\"\"\r\n",
        "    This function takes two 2D numpy arrays in the first two arguments, and an integer\r\n",
        "    batch_size in the third argument. It should create and return a Dataset object \r\n",
        "    using the two numpy arrays and batch size according to the above specification.\r\n",
        "    \"\"\"\r\n",
        "    dataset=tf.data.Dataset.from_tensor_slices((input_array, target_array))\r\n",
        "    dataset=dataset.batch(batch_size, drop_remainder=True)\r\n",
        "    return dataset"
      ],
      "execution_count": 48,
      "outputs": []
    },
    {
      "cell_type": "code",
      "metadata": {
        "id": "okBUw9-f05EG"
      },
      "source": [
        "# Create the training and validation Datasets\r\n",
        "\r\n",
        "train_data = make_Dataset(input_train, target_train, batch_size)\r\n",
        "valid_data = make_Dataset(input_valid, target_valid, batch_size)"
      ],
      "execution_count": 54,
      "outputs": []
    },
    {
      "cell_type": "markdown",
      "metadata": {
        "id": "8mQA00zn1wII"
      },
      "source": [
        "#### Build the recurrent neural network model"
      ]
    },
    {
      "cell_type": "markdown",
      "metadata": {
        "id": "3QgnUnF_1zVY"
      },
      "source": [
        "You are now ready to build your RNN character-level language model. You should write the following function to build the model; the function takes arguments for the batch size and vocabulary size (number of tokens). Using the Sequential API, your function should build your model according to the following specifications:\r\n",
        "\r\n",
        "* The first layer should be an Embedding layer with an embedding dimension of 256 and set the vocabulary size to `vocab_size` from the function argument.\r\n",
        "* The Embedding layer should also mask the zero padding in the input sequences.\r\n",
        "* The Embedding layer should also set the `batch_input_shape` to `(batch_size, None)` (a fixed batch size is required for stateful RNNs).\r\n",
        "* The next layer should be a (uni-directional) GRU layer with 1024 units, set to be a stateful RNN layer.\r\n",
        "* The GRU layer should return the full sequence, instead of just the output state at the final time step.\r\n",
        "* The final layer should be a Dense layer with `vocab_size` units and no activation function.\r\n",
        "\r\n",
        "In total, the network should have 3 layers."
      ]
    },
    {
      "cell_type": "code",
      "metadata": {
        "id": "pk3Csfw51tgj"
      },
      "source": [
        "#### GRADED CELL ####\r\n",
        "\r\n",
        "# Complete the following function.\r\n",
        "# Make sure not to change the function name or arguments.\r\n",
        "\r\n",
        "def get_model(vocab_size, batch_size):\r\n",
        "    \"\"\"\r\n",
        "    This function takes a vocabulary size and batch size, and builds and returns a \r\n",
        "    Sequential model according to the above specification.\r\n",
        "    \"\"\"\r\n",
        "    model=tf.keras.Sequential([\r\n",
        "        tf.keras.layers.Embedding(input_dim=vocab_size, output_dim=256, batch_input_shape=(batch_size,None), mask_zero=True),\r\n",
        "        tf.keras.layers.GRU(1024, stateful=True, name='statefull_gru', return_sequences=True),\r\n",
        "        tf.keras.layers.Dense(vocab_size)\r\n",
        "    ])\r\n",
        "    return model"
      ],
      "execution_count": 57,
      "outputs": []
    },
    {
      "cell_type": "code",
      "metadata": {
        "colab": {
          "base_uri": "https://localhost:8080/"
        },
        "id": "67w4B9Iy13DX",
        "outputId": "cbe1f615-5fbc-46e6-e2f2-ad080b718797"
      },
      "source": [
        "# Build the model and print the model summary\r\n",
        "\r\n",
        "model = get_model(len(tokenizer.word_index) + 1, batch_size)\r\n",
        "model.summary()"
      ],
      "execution_count": 58,
      "outputs": [
        {
          "output_type": "stream",
          "text": [
            "Model: \"sequential_1\"\n",
            "_________________________________________________________________\n",
            "Layer (type)                 Output Shape              Param #   \n",
            "=================================================================\n",
            "embedding_1 (Embedding)      (32, None, 256)           16640     \n",
            "_________________________________________________________________\n",
            "statefull_gru (GRU)          (32, None, 1024)          3938304   \n",
            "_________________________________________________________________\n",
            "dense_1 (Dense)              (32, None, 65)            66625     \n",
            "=================================================================\n",
            "Total params: 4,021,569\n",
            "Trainable params: 4,021,569\n",
            "Non-trainable params: 0\n",
            "_________________________________________________________________\n"
          ],
          "name": "stdout"
        }
      ]
    },
    {
      "cell_type": "markdown",
      "metadata": {
        "id": "SlbW-teW2Ag-"
      },
      "source": [
        "#### Compile and train the model\r\n",
        "\r\n",
        "You are now ready to compile and train the model. For this model and dataset, the training time is very long. Therefore for this assignment it is not a requirement to train the model. We have pre-trained a model for you (using the code below) and saved the model weights, which can be loaded to get the model predictions. \r\n",
        "\r\n",
        "It is recommended to use accelerator hardware (e.g. using Colab) when training this model. It would also be beneficial to increase the size of the model, e.g. by stacking extra recurrent layers."
      ]
    },
    {
      "cell_type": "code",
      "metadata": {
        "id": "JhfX-gOL189b"
      },
      "source": [
        "# Choose whether to train a new model or load the pre-trained model\r\n",
        "\r\n",
        "skip_training = True"
      ],
      "execution_count": 72,
      "outputs": []
    },
    {
      "cell_type": "code",
      "metadata": {
        "colab": {
          "base_uri": "https://localhost:8080/"
        },
        "id": "nz-dOKKZ2EF4",
        "outputId": "aa287e90-1e20-4eb1-d484-6a543346af0f"
      },
      "source": [
        "# Compile and train the model, or load pre-trained weights\r\n",
        "\r\n",
        "if not skip_training:\r\n",
        "    checkpoint_callback=tf.keras.callbacks.ModelCheckpoint(filepath='/content/gdrive/MyDrive/CourseraNotes/TensorFlow2_CustomisingYourModel/week3_models/ckpt',\r\n",
        "                                                           save_weights_only=True,\r\n",
        "                                                           save_best_only=True)\r\n",
        "    model.compile(optimizer='adam', loss=tf.keras.losses.SparseCategoricalCrossentropy(from_logits=True),\r\n",
        "                  metrics=['sparse_categorical_accuracy'])\r\n",
        "    history = model.fit(train_data, epochs=15, validation_data=valid_data, \r\n",
        "                        validation_steps=50, callbacks=[checkpoint_callback])"
      ],
      "execution_count": 63,
      "outputs": [
        {
          "output_type": "stream",
          "text": [
            "Epoch 1/15\n",
            "196/196 [==============================] - 106s 529ms/step - loss: 0.5204 - sparse_categorical_accuracy: 0.4387 - val_loss: 0.4703 - val_sparse_categorical_accuracy: 0.4997\n",
            "Epoch 2/15\n",
            "196/196 [==============================] - 101s 514ms/step - loss: 0.4421 - sparse_categorical_accuracy: 0.5183 - val_loss: 0.4260 - val_sparse_categorical_accuracy: 0.5420\n",
            "Epoch 3/15\n",
            "196/196 [==============================] - 102s 522ms/step - loss: 0.3983 - sparse_categorical_accuracy: 0.5606 - val_loss: 0.4015 - val_sparse_categorical_accuracy: 0.5651\n",
            "Epoch 4/15\n",
            "196/196 [==============================] - 102s 519ms/step - loss: 0.3713 - sparse_categorical_accuracy: 0.5861 - val_loss: 0.3887 - val_sparse_categorical_accuracy: 0.5791\n",
            "Epoch 5/15\n",
            "196/196 [==============================] - 102s 519ms/step - loss: 0.3507 - sparse_categorical_accuracy: 0.6054 - val_loss: 0.3832 - val_sparse_categorical_accuracy: 0.5857\n",
            "Epoch 6/15\n",
            "196/196 [==============================] - 101s 515ms/step - loss: 0.3341 - sparse_categorical_accuracy: 0.6212 - val_loss: 0.3817 - val_sparse_categorical_accuracy: 0.5870\n",
            "Epoch 7/15\n",
            "196/196 [==============================] - 101s 518ms/step - loss: 0.3181 - sparse_categorical_accuracy: 0.6378 - val_loss: 0.3845 - val_sparse_categorical_accuracy: 0.5861\n",
            "Epoch 8/15\n",
            "196/196 [==============================] - 99s 508ms/step - loss: 0.3025 - sparse_categorical_accuracy: 0.6541 - val_loss: 0.3913 - val_sparse_categorical_accuracy: 0.5821\n",
            "Epoch 9/15\n",
            "196/196 [==============================] - 100s 513ms/step - loss: 0.2885 - sparse_categorical_accuracy: 0.6693 - val_loss: 0.3998 - val_sparse_categorical_accuracy: 0.5786\n",
            "Epoch 10/15\n",
            "196/196 [==============================] - 100s 512ms/step - loss: 0.2768 - sparse_categorical_accuracy: 0.6817 - val_loss: 0.4104 - val_sparse_categorical_accuracy: 0.5738\n",
            "Epoch 11/15\n",
            "196/196 [==============================] - 100s 509ms/step - loss: 0.2658 - sparse_categorical_accuracy: 0.6929 - val_loss: 0.4170 - val_sparse_categorical_accuracy: 0.5721\n",
            "Epoch 12/15\n",
            "196/196 [==============================] - 100s 508ms/step - loss: 0.2542 - sparse_categorical_accuracy: 0.7063 - val_loss: 0.4261 - val_sparse_categorical_accuracy: 0.5698\n",
            "Epoch 13/15\n",
            "196/196 [==============================] - 100s 513ms/step - loss: 0.2432 - sparse_categorical_accuracy: 0.7186 - val_loss: 0.4329 - val_sparse_categorical_accuracy: 0.5710\n",
            "Epoch 14/15\n",
            "196/196 [==============================] - 100s 513ms/step - loss: 0.2341 - sparse_categorical_accuracy: 0.7283 - val_loss: 0.4429 - val_sparse_categorical_accuracy: 0.5677\n",
            "Epoch 15/15\n",
            "196/196 [==============================] - 101s 518ms/step - loss: 0.2287 - sparse_categorical_accuracy: 0.7338 - val_loss: 0.4568 - val_sparse_categorical_accuracy: 0.5588\n"
          ],
          "name": "stdout"
        }
      ]
    },
    {
      "cell_type": "code",
      "metadata": {
        "id": "OxL9ZoK52F8R"
      },
      "source": [
        "# Save model history as a json file, or load it if using pre-trained weights\r\n",
        "path2='/content/gdrive/MyDrive/CourseraNotes/TensorFlow2_CustomisingYourModel/week3_models/'\r\n",
        "historypath=os.path.join(path2, 'history.json')\r\n",
        "\r\n",
        "if not skip_training:\r\n",
        "    history_dict = dict()\r\n",
        "    for k, v in history.history.items():\r\n",
        "        history_dict[k] = [float(val) for val in history.history[k]]\r\n",
        "    with open(historypath, 'w+') as json_file:\r\n",
        "        json.dump(history_dict, json_file, sort_keys=True, indent=4)\r\n",
        "else:\r\n",
        "    with open(historypath, 'r') as json_file:\r\n",
        "        history_dict = json.load(json_file)"
      ],
      "execution_count": 73,
      "outputs": []
    },
    {
      "cell_type": "code",
      "metadata": {
        "colab": {
          "base_uri": "https://localhost:8080/",
          "height": 350
        },
        "id": "wWP8wMBu3T9N",
        "outputId": "206f1460-604e-4c03-c34e-fee471e28c62"
      },
      "source": [
        "# Run this cell to plot accuracy vs epoch and loss vs epoch\r\n",
        "\r\n",
        "plt.figure(figsize=(15,5))\r\n",
        "plt.subplot(121)\r\n",
        "plt.plot(history_dict['sparse_categorical_accuracy'])\r\n",
        "plt.plot(history_dict['val_sparse_categorical_accuracy'])\r\n",
        "plt.title('Accuracy vs. epochs')\r\n",
        "plt.ylabel('Accuracy')\r\n",
        "plt.xlabel('Epoch')\r\n",
        "plt.xticks(np.arange(len(history_dict['sparse_categorical_accuracy'])))\r\n",
        "ax = plt.gca()\r\n",
        "ax.set_xticklabels(1 + np.arange(len(history_dict['sparse_categorical_accuracy'])))\r\n",
        "plt.legend(['Training', 'Validation'], loc='lower right')\r\n",
        "\r\n",
        "plt.subplot(122)\r\n",
        "plt.plot(history_dict['loss'])\r\n",
        "plt.plot(history_dict['val_loss'])\r\n",
        "plt.title('Loss vs. epochs')\r\n",
        "plt.ylabel('Loss')\r\n",
        "plt.xlabel('Epoch')\r\n",
        "plt.xticks(np.arange(len(history_dict['sparse_categorical_accuracy'])))\r\n",
        "ax = plt.gca()\r\n",
        "ax.set_xticklabels(1 + np.arange(len(history_dict['sparse_categorical_accuracy'])))\r\n",
        "plt.legend(['Training', 'Validation'], loc='upper right')\r\n",
        "plt.show() "
      ],
      "execution_count": 74,
      "outputs": [
        {
          "output_type": "display_data",
          "data": {
            "image/png": "[encoded data removed]",
            "text/plain": [
              "<Figure size 1080x360 with 2 Axes>"
            ]
          },
          "metadata": {
            "tags": [],
            "needs_background": "light"
          }
        }
      ]
    },
    {
      "cell_type": "code",
      "metadata": {
        "id": "BnnHCUs73XA3"
      },
      "source": [
        ""
      ],
      "execution_count": null,
      "outputs": []
    },
    {
      "cell_type": "markdown",
      "metadata": {
        "id": "8CEsRGsXQHn5"
      },
      "source": [
        "#### Write a text generation algorithm\r\n",
        "\r\n",
        "You can now use the model to generate text! In order to generate a single text sequence, the model needs to be rebuilt with a batch size of 1."
      ]
    },
    {
      "cell_type": "code",
      "metadata": {
        "colab": {
          "base_uri": "https://localhost:8080/"
        },
        "id": "Sq85-yvIQKBG",
        "outputId": "2cbefde7-fd15-40ac-a6c4-873e688469c6"
      },
      "source": [
        "# Re-build the model and load the saved weights\r\n",
        "\r\n",
        "model = get_model(len(tokenizer.word_index) + 1, batch_size=1)\r\n",
        "model.load_weights(tf.train.latest_checkpoint(path2))"
      ],
      "execution_count": 75,
      "outputs": [
        {
          "output_type": "execute_result",
          "data": {
            "text/plain": [
              "<tensorflow.python.training.tracking.util.CheckpointLoadStatus at 0x7f4a4fbed650>"
            ]
          },
          "metadata": {
            "tags": []
          },
          "execution_count": 75
        }
      ]
    },
    {
      "cell_type": "code",
      "metadata": {
        "id": "k0YoEVlnQSM3"
      },
      "source": [
        ""
      ],
      "execution_count": null,
      "outputs": []
    },
    {
      "cell_type": "markdown",
      "metadata": {
        "id": "yqXD_WN_QWhu"
      },
      "source": [
        "An algorithm to generate text is as follows:\r\n",
        "\r\n",
        "1. Specify a seed string (e.g. `'ROMEO:'`) to get the network started, and a define number of characters for the model to generate, `num_generation_steps`.\r\n",
        "2. Tokenize this sentence to obtain a list containing one list of the integer tokens.\r\n",
        "3. Reset the initial state of the network. \r\n",
        "4. Convert the token list into a Tensor (or numpy array) and pass it to your model as a batch of size one.\r\n",
        "5. Get the model prediction (logits) for the last time step and extract the state of the recurrent layer.\r\n",
        "6. Use the logits to construct a categorical distribution and sample a token from it.\r\n",
        "7. Repeat the following for `num_generation_steps - 1` steps:\r\n",
        "\r\n",
        "    1. Use the saved state of the recurrent layer and the last sampled token to get new logit predictions\r\n",
        "    2. Use the logits to construct a new categorical distribution and sample a token from it.\r\n",
        "    3. Save the updated state of the recurrent layer.    \r\n",
        "\r\n",
        "8. Take the final list of tokens and convert to text using the Tokenizer.\r\n",
        "\r\n",
        "Note that the internal state of the recurrent layer can be accessed using the `states` property. For the GRU layer, it is a list of one variable:"
      ]
    },
    {
      "cell_type": "code",
      "metadata": {
        "colab": {
          "base_uri": "https://localhost:8080/"
        },
        "id": "4Jcanrw6QXYh",
        "outputId": "4ed063c7-6850-4d91-aa7b-64df3bac75cf"
      },
      "source": [
        "# Inspect the model's current recurrent state\r\n",
        "\r\n",
        "model.layers[1].states"
      ],
      "execution_count": 76,
      "outputs": [
        {
          "output_type": "execute_result",
          "data": {
            "text/plain": [
              "[<tf.Variable 'statefull_gru/Variable:0' shape=(1, 1024) dtype=float32, numpy=array([[0., 0., 0., ..., 0., 0., 0.]], dtype=float32)>]"
            ]
          },
          "metadata": {
            "tags": []
          },
          "execution_count": 76
        }
      ]
    },
    {
      "cell_type": "markdown",
      "metadata": {
        "id": "6PzD4XWqQc4H"
      },
      "source": [
        "We will break the algorithm down into two steps. First, you should now complete the following function that takes a sequence of tokens of any length and returns the model's prediction (the logits) for the last time step. The specification is as follows:\r\n",
        "\r\n",
        "* The token sequence will be a python list, containing one list of integer tokens, e.g. `[[1, 2, 3, 4]]`\r\n",
        "* The function should convert the list into a 2D Tensor or numpy array\r\n",
        "* If the function argument `initial_state` is `None`, then the function should reset the state of the recurrent layer to zeros.\r\n",
        "* Otherwise, if the function argument `initial_state` is a 2D Tensor or numpy array, assign the value of the internal state of the GRU layer to this argument.\r\n",
        "* Get the model's prediction (logits) for the last time step only.\r\n",
        "\r\n",
        "The function should then return the logits as a 2D numpy array, where the first dimension is equal to 1 (batch size).\r\n",
        "\r\n",
        "**Hint:** the internal state of the recurrent can be reset to zeros using the `reset_states` method."
      ]
    },
    {
      "cell_type": "code",
      "metadata": {
        "id": "L5h7Hn3NQaEk"
      },
      "source": [
        "#### GRADED CELL ####\r\n",
        "\r\n",
        "# Complete the following function.\r\n",
        "# Make sure not to change the function name or arguments.\r\n",
        "\r\n",
        "def get_logits(model, token_sequence, initial_state=None):\r\n",
        "    \"\"\"\r\n",
        "    This function takes a model object, a token sequence and an optional initial\r\n",
        "    state for the recurrent layer. The function should return the logits prediction\r\n",
        "    for the final time step as a 2D numpy array.\r\n",
        "    \"\"\"\r\n",
        "    if initial_state is None:\r\n",
        "        model.layers[1].reset_states()\r\n",
        "    else:\r\n",
        "        model.layers[1].initial_state = initial_state\r\n",
        "    token_sequence = np.array(token_sequence)\r\n",
        "    predicted = model.predict(token_sequence) # (1, 4, 65)\r\n",
        "    pred = predicted[:,-1,:]\r\n",
        "    #pred= np.expand_dims(predicted[0, -1], 0) # (1, 65) #seemed also working\r\n",
        "    return pred   "
      ],
      "execution_count": 77,
      "outputs": []
    },
    {
      "cell_type": "code",
      "metadata": {
        "colab": {
          "base_uri": "https://localhost:8080/"
        },
        "id": "21NVZb5EQgJj",
        "outputId": "702f349f-5ff6-4371-d66c-b02e63363d9c"
      },
      "source": [
        "# Test the get_logits function by passing a dummy token sequence\r\n",
        "\r\n",
        "dummy_initial_state = tf.random.normal(model.layers[1].states[0].shape)\r\n",
        "test_result=get_logits(model, [[1, 2, 3, 4]], initial_state=dummy_initial_state)\r\n",
        "test_result"
      ],
      "execution_count": 78,
      "outputs": [
        {
          "output_type": "execute_result",
          "data": {
            "text/plain": [
              "array([[ -9.811453  ,   1.8968374 ,   4.7405963 ,   0.20026602,\n",
              "          1.987283  ,   0.66470283,  -7.0023975 ,   6.42051   ,\n",
              "          7.3565726 ,   4.82269   ,   0.8073857 ,   1.4822805 ,\n",
              "          6.144787  ,   1.8357412 ,   6.7802563 ,   6.7338004 ,\n",
              "         -4.1862726 ,   1.2329328 ,   1.6370093 ,   3.0077698 ,\n",
              "          4.9152665 ,  -0.03644609, -12.073349  ,   1.0859115 ,\n",
              "          4.949939  ,  -1.346466  , -10.402759  ,  -1.5366465 ,\n",
              "         -2.727867  ,  -5.7750444 ,   1.6562918 ,  -9.773024  ,\n",
              "         -8.893021  ,  -7.446949  ,  -5.0649276 ,  -4.2622514 ,\n",
              "         -5.7203035 , -10.1083765 ,  -0.23609248,  -6.524389  ,\n",
              "         -5.728576  , -10.56083   ,  -6.46684   ,  -3.418738  ,\n",
              "          0.17175303,  -4.0305    ,  -1.7207953 ,  -9.330959  ,\n",
              "          1.8323737 ,  -6.6863112 ,  -6.535905  ,  -5.2138815 ,\n",
              "         -7.9609156 ,  -8.4574585 ,  -6.5199456 ,  -1.9425994 ,\n",
              "          0.46189296,  -2.3004706 ,  -8.991753  , -10.108401  ,\n",
              "         -6.761091  ,  -5.6770983 ,  -9.897018  ,  -8.65148   ,\n",
              "        -10.1211    ]], dtype=float32)"
            ]
          },
          "metadata": {
            "tags": []
          },
          "execution_count": 78
        }
      ]
    },
    {
      "cell_type": "code",
      "metadata": {
        "id": "GEjyvwvVQjJG"
      },
      "source": [
        ""
      ],
      "execution_count": null,
      "outputs": []
    },
    {
      "cell_type": "markdown",
      "metadata": {
        "id": "NemcuyZBQmJH"
      },
      "source": [
        "You should now write a function that takes a logits prediction similar to the above, uses it to create a categorical distribution, and samples a token from this distribution. The following function takes a 2D numpy array `logits` as an argument, and should return a single integer prediction that is sampled from the categorical distribution. \r\n",
        "\r\n",
        "**Hint:** you might find the `tf.random.categorical` function useful for this; see the documentation [here](https://www.tensorflow.org/api_docs/python/tf/random/categorical)."
      ]
    },
    {
      "cell_type": "code",
      "metadata": {
        "id": "HfTfSrikQm4x"
      },
      "source": [
        "#### GRADED CELL ####\r\n",
        "\r\n",
        "# Complete the following function.\r\n",
        "# Make sure not to change the function name or arguments.\r\n",
        "\r\n",
        "def sample_token(logits):\r\n",
        "    \"\"\"\r\n",
        "    This function takes a 2D numpy array as an input, and constructs a \r\n",
        "    categorical distribution using it. It should then sample from this\r\n",
        "    distribution and return the sample as a single integer.\r\n",
        "    \"\"\"\r\n",
        "    list=tf.random.categorical(logits, num_samples)\r\n",
        "    #return np.argmax(np.array(list))\r\n",
        "    return list.numpy()[0][0]"
      ],
      "execution_count": 79,
      "outputs": []
    },
    {
      "cell_type": "code",
      "metadata": {
        "colab": {
          "base_uri": "https://localhost:8080/"
        },
        "id": "m7-MZhuKQqMW",
        "outputId": "65fc723d-a4f5-4226-de14-4d6d41cd4aac"
      },
      "source": [
        "# Test the sample_token function by passing dummy logits\r\n",
        "\r\n",
        "dummy_initial_state = tf.random.normal(model.layers[1].states[0].shape)\r\n",
        "dummy_logits = get_logits(model, [[1, 2, 3, 4]], initial_state=dummy_initial_state)\r\n",
        "sample_token(dummy_logits)"
      ],
      "execution_count": 80,
      "outputs": [
        {
          "output_type": "execute_result",
          "data": {
            "text/plain": [
              "15"
            ]
          },
          "metadata": {
            "tags": []
          },
          "execution_count": 80
        }
      ]
    },
    {
      "cell_type": "code",
      "metadata": {
        "colab": {
          "base_uri": "https://localhost:8080/"
        },
        "id": "Q81REArEQsnS",
        "outputId": "81c722e8-1728-4e85-d8ed-56e37880f98d"
      },
      "source": [
        "#what is this for?\r\n",
        "logits_size = dummy_logits.shape[1]\r\n",
        "dummy_logits = -np.inf*np.ones((1, logits_size))\r\n",
        "dummy_logits[0, 20] = 0\r\n",
        "sample_token(dummy_logits)\r\n",
        "random_inx = np.random.choice(logits_size, 2, replace=False)\r\n",
        "random_inx1, random_inx2 = random_inx[0], random_inx[1]\r\n",
        "print(random_inx1, random_inx2)\r\n",
        "dummy_logits = -np.inf*np.ones((1, logits_size))\r\n",
        "dummy_logits[0, random_inx1] = 0\r\n",
        "dummy_logits[0, random_inx2] = 0\r\n",
        "sampled_token = []\r\n",
        "for _ in range(100):\r\n",
        "    sampled_token.append(sample_token(dummy_logits))\r\n",
        "    \r\n",
        "l_tokens, l_counts = np.unique(np.array(sampled_token), return_counts=True)\r\n",
        "len(l_tokens) == 2"
      ],
      "execution_count": 81,
      "outputs": [
        {
          "output_type": "stream",
          "text": [
            "46 50\n"
          ],
          "name": "stdout"
        },
        {
          "output_type": "execute_result",
          "data": {
            "text/plain": [
              "True"
            ]
          },
          "metadata": {
            "tags": []
          },
          "execution_count": 81
        }
      ]
    },
    {
      "cell_type": "markdown",
      "metadata": {
        "id": "QWPvaNFaQzmD"
      },
      "source": [
        "#### Generate text from the model\r\n",
        "\r\n",
        "You are now ready to generate text from the model!"
      ]
    },
    {
      "cell_type": "code",
      "metadata": {
        "id": "FF9WpJhOQvL2"
      },
      "source": [
        "# Create a seed string and number of generation steps\r\n",
        "\r\n",
        "init_string = 'ROMEO:'\r\n",
        "num_generation_steps = 1000"
      ],
      "execution_count": 82,
      "outputs": []
    },
    {
      "cell_type": "code",
      "metadata": {
        "colab": {
          "base_uri": "https://localhost:8080/"
        },
        "id": "hebPRDt8Q0Vy",
        "outputId": "18c12b97-9afb-4f31-d6d8-c96cc26cc5b3"
      },
      "source": [
        "# Use the model to generate a token sequence\r\n",
        "\r\n",
        "token_sequence = tokenizer.texts_to_sequences([init_string])\r\n",
        "initial_state = None\r\n",
        "input_sequence = token_sequence\r\n",
        "\r\n",
        "for _ in range(num_generation_steps):\r\n",
        "    logits = get_logits(model, input_sequence, initial_state=initial_state)\r\n",
        "    sampled_token = sample_token(logits)\r\n",
        "    token_sequence[0].append(sampled_token)\r\n",
        "    input_sequence = [[sampled_token]]\r\n",
        "    initial_state = model.layers[1].states[0].numpy()\r\n",
        "    \r\n",
        "print(tokenizer.sequences_to_texts(token_sequence)[0][::2])"
      ],
      "execution_count": 83,
      "outputs": [
        {
          "output_type": "stream",
          "text": [
            "ROMEO:\n",
            "What curse! Pluts, help of langua,\n",
            "Are no vineyor cleap-deligation,\n",
            "Or never beaved stripts by execcations,\n",
            "May daughter stand in my face, it's comfort\n",
            "The realm and a breath, assilty direch,\n",
            "Eart where you bless against to entertalied\n",
            "stainge herself, upon her, let the child!\n",
            "O mignifier speak\n",
            "A king! at reasons would you to\n",
            "My book with wife to any things banish'd,\n",
            "That blessing minists his groans that sed it\n",
            "speak, cousin, here only served this place,\n",
            "They say yon\n",
            "All my fellow brave Anqueing dil your bird\n",
            "With kingdom counsel and I'll never more delivate\n",
            "will advise she from that Prafing lew they say;\n",
            "Now I'll unto the inage Petcument father;\n",
            "And make a kent of her, and thinking\n",
            "his there, heard my name; there in Crafence is 'G?\n",
            "\n",
            "ANTIGO:\n",
            "The gentleman to sword the Duke of God,\n",
            "Then, where it bow'd for fair south's eye, 'Ay, never let\n",
            "Like oflys I say, I'll deliver her\n",
            "\n",
            "AUTOLYCUS:\n",
            "Well, daughter? is of a swarding is tears me\n",
            "Two cause, my brother, let us bleed with tred:\n",
            "Your least\n"
          ],
          "name": "stdout"
        }
      ]
    },
    {
      "cell_type": "code",
      "metadata": {
        "id": "5ziWtM-3Q4VN"
      },
      "source": [
        ""
      ],
      "execution_count": null,
      "outputs": []
    }
  ]
}